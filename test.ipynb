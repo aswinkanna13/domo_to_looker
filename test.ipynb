{
 "cells": [
  {
   "cell_type": "code",
   "execution_count": 174,
   "id": "a5f7e72e",
   "metadata": {},
   "outputs": [
    {
     "name": "stdout",
     "output_type": "stream",
     "text": [
      "Authenticated to Domo API host: api.domo.com\n"
     ]
    }
   ],
   "source": [
    "# You can set DOMO_CLIENT_ID and DOMO_CLIENT_SECRET as environment variables\n",
    "# or enter them interactively. Optionally set DOMO_API_HOST (defaults to api.domo.com).\n",
    "\n",
    "import os\n",
    "import getpass\n",
    "from dotenv import load_dotenv\n",
    "from pydomo import Domo\n",
    "\n",
    "# load .env if present\n",
    "load_dotenv()\n",
    "\n",
    "CLIENT_ID = os.getenv('DOMO_CLIENT_ID') or input('DOMO_CLIENT_ID: ').strip()\n",
    "CLIENT_SECRET = os.getenv('DOMO_CLIENT_SECRET') or getpass.getpass('DOMO_CLIENT_SECRET: ')\n",
    "API_HOST = os.getenv('DOMO_API_HOST', 'api.domo.com').strip()\n",
    "\n",
    "# Create authenticated client\n",
    "domo = Domo(CLIENT_ID, CLIENT_SECRET, api_host=API_HOST, logger_name='pydomo')\n",
    "print('Authenticated to Domo API host:', API_HOST)\n"
   ]
  },
  {
   "cell_type": "code",
   "execution_count": 45,
   "id": "65ea0be5",
   "metadata": {},
   "outputs": [],
   "source": [
    "# Helper functions to list pages, fetch page metadata, collections, and cards\n",
    "import pandas as pd\n",
    "from typing import Dict, Any, List\n",
    "from datetime import datetime\n",
    "\n",
    "def list_pages_df(domo: 'Domo') -> pd.DataFrame:\n",
    "    \"\"\"Return DataFrame of pages (dashboards) accessible by the API client.\"\"\"\n",
    "    pages = domo.page_list()\n",
    "    rows = []\n",
    "    for p in pages:\n",
    "        rows.append({\n",
    "            'id': p.get('id'),\n",
    "            'title': p.get('title') or p.get('name'),\n",
    "            'description': p.get('description'),\n",
    "            'parentId': p.get('parentId'),\n",
    "            'childrenCount': len(p.get('children', [])) if isinstance(p.get('children'), list) else None,\n",
    "            'isFavorite': p.get('favorite') if 'favorite' in p else None,\n",
    "            'url': p.get('url') or p.get('link')\n",
    "        })\n",
    "    return pd.DataFrame(rows)\n",
    "\n",
    "def page_summary(domo: 'Domo', page_id: int) -> Dict[str, Any]:\n",
    "    \"\"\"Return a brief summary + raw metadata/collections for a page.\"\"\"\n",
    "    meta = domo.page_get(page_id)\n",
    "    collections = domo.page_get_collections(page_id)\n",
    "    return {\n",
    "        'page_id': meta.get('id'),\n",
    "        'title': meta.get('title') or meta.get('name'),\n",
    "        'description': meta.get('description'),\n",
    "        'collection_count': len(collections) if isinstance(collections, list) else None,\n",
    "        'raw_meta': meta,\n",
    "        'raw_collections': collections,\n",
    "    }\n",
    "\n",
    "def collections_df(domo: 'Domo', page_id: int) -> pd.DataFrame:\n",
    "    \"\"\"Return DataFrame describing collections on a page.\"\"\"\n",
    "    cols = domo.page_get_collections(page_id)\n",
    "    out = []\n",
    "    for c in cols or []:\n",
    "        cards = c.get('cards', []) if isinstance(c, dict) else []\n",
    "        out.append({\n",
    "            'collection_id': c.get('id'),\n",
    "            'collection_title': c.get('title') or c.get('name'),\n",
    "            'card_count': len(cards) if isinstance(cards, list) else None\n",
    "        })\n",
    "    return pd.DataFrame(out)\n",
    "\n",
    "def cards_df_from_collections(domo: 'Domo', page_id: int) -> pd.DataFrame:\n",
    "    \"\"\"Build DataFrame of cards found inside the page's collections.\"\"\"\n",
    "    cols = domo.page_get_collections(page_id)\n",
    "    rows = []\n",
    "    for c in cols or []:\n",
    "        col_id = c.get('id')\n",
    "        col_title = c.get('title') or c.get('name')\n",
    "        for card in (c.get('cards') or []):\n",
    "            if isinstance(card, dict):\n",
    "                rows.append({\n",
    "                    'collection_id': col_id,\n",
    "                    'collection_title': col_title,\n",
    "                    'card_id': card.get('id') or card.get('cardId'),\n",
    "                    'card_title': card.get('title') or card.get('name'),\n",
    "                    'card_type': card.get('type'),\n",
    "                })\n",
    "            else:\n",
    "                # card may be an ID only\n",
    "                rows.append({\n",
    "                    'collection_id': col_id,\n",
    "                    'collection_title': col_title,\n",
    "                    'card_id': card,\n",
    "                    'card_title': None,\n",
    "                    'card_type': None,\n",
    "                })\n",
    "    return pd.DataFrame(rows)\n",
    "\n",
    "def export_results(pages: pd.DataFrame, collections: pd.DataFrame, cards: pd.DataFrame, base_path: str = './') -> dict:\n",
    "    \"\"\"Export CSVs and a multi-sheet Excel file. Returns paths.\"\"\"\n",
    "    ts = datetime.now().strftime('%Y%m%d_%H%M%S')\n",
    "    out_csv_pages = f\"{base_path}domo_pages_{ts}.csv\"\n",
    "    out_csv_collections = f\"{base_path}domo_page_collections_{ts}.csv\"\n",
    "    out_csv_cards = f\"{base_path}domo_page_cards_{ts}.csv\"\n",
    "    pages.to_csv(out_csv_pages, index=False)\n",
    "    collections.to_csv(out_csv_collections, index=False)\n",
    "    cards.to_csv(out_csv_cards, index=False)\n",
    "\n",
    "    out_xlsx = f\"{base_path}domo_dashboard_details_{ts}.xlsx\"\n",
    "    with pd.ExcelWriter(out_xlsx) as xl:\n",
    "        pages.to_excel(xl, sheet_name='Pages', index=False)\n",
    "        collections.to_excel(xl, sheet_name='Collections', index=False)\n",
    "        cards.to_excel(xl, sheet_name='Cards', index=False)\n",
    "    return {\n",
    "        'pages_csv': out_csv_pages,\n",
    "        'collections_csv': out_csv_collections,\n",
    "        'cards_csv': out_csv_cards,\n",
    "        'xlsx': out_xlsx,\n",
    "    }\n"
   ]
  },
  {
   "cell_type": "code",
   "execution_count": 175,
   "id": "c4609453",
   "metadata": {},
   "outputs": [
    {
     "name": "stdout",
     "output_type": "stream",
     "text": [
      "Total pages found: 4\n"
     ]
    },
    {
     "data": {
      "text/html": [
       "<div>\n",
       "<style scoped>\n",
       "    .dataframe tbody tr th:only-of-type {\n",
       "        vertical-align: middle;\n",
       "    }\n",
       "\n",
       "    .dataframe tbody tr th {\n",
       "        vertical-align: top;\n",
       "    }\n",
       "\n",
       "    .dataframe thead th {\n",
       "        text-align: right;\n",
       "    }\n",
       "</style>\n",
       "<table border=\"1\" class=\"dataframe\">\n",
       "  <thead>\n",
       "    <tr style=\"text-align: right;\">\n",
       "      <th></th>\n",
       "      <th>id</th>\n",
       "      <th>title</th>\n",
       "      <th>description</th>\n",
       "      <th>parentId</th>\n",
       "      <th>childrenCount</th>\n",
       "      <th>isFavorite</th>\n",
       "      <th>url</th>\n",
       "    </tr>\n",
       "  </thead>\n",
       "  <tbody>\n",
       "    <tr>\n",
       "      <th>0</th>\n",
       "      <td>333365150</td>\n",
       "      <td>Example Sales Dashboard</td>\n",
       "      <td>None</td>\n",
       "      <td>None</td>\n",
       "      <td>0</td>\n",
       "      <td>None</td>\n",
       "      <td>None</td>\n",
       "    </tr>\n",
       "    <tr>\n",
       "      <th>1</th>\n",
       "      <td>51087845</td>\n",
       "      <td>Example Marketing Dashboard</td>\n",
       "      <td>None</td>\n",
       "      <td>None</td>\n",
       "      <td>0</td>\n",
       "      <td>None</td>\n",
       "      <td>None</td>\n",
       "    </tr>\n",
       "    <tr>\n",
       "      <th>2</th>\n",
       "      <td>1439666643</td>\n",
       "      <td>Ecommerce Dashboard</td>\n",
       "      <td>None</td>\n",
       "      <td>None</td>\n",
       "      <td>0</td>\n",
       "      <td>None</td>\n",
       "      <td>None</td>\n",
       "    </tr>\n",
       "    <tr>\n",
       "      <th>3</th>\n",
       "      <td>1195479659</td>\n",
       "      <td>Sales Dashboard</td>\n",
       "      <td>None</td>\n",
       "      <td>None</td>\n",
       "      <td>0</td>\n",
       "      <td>None</td>\n",
       "      <td>None</td>\n",
       "    </tr>\n",
       "  </tbody>\n",
       "</table>\n",
       "</div>"
      ],
      "text/plain": [
       "           id                        title description parentId  \\\n",
       "0   333365150      Example Sales Dashboard        None     None   \n",
       "1    51087845  Example Marketing Dashboard        None     None   \n",
       "2  1439666643          Ecommerce Dashboard        None     None   \n",
       "3  1195479659              Sales Dashboard        None     None   \n",
       "\n",
       "   childrenCount isFavorite   url  \n",
       "0              0       None  None  \n",
       "1              0       None  None  \n",
       "2              0       None  None  \n",
       "3              0       None  None  "
      ]
     },
     "execution_count": 175,
     "metadata": {},
     "output_type": "execute_result"
    }
   ],
   "source": [
    "# List all pages you have access to and display first rows\n",
    "pages_df = list_pages_df(domo)\n",
    "print('Total pages found:', len(pages_df))\n",
    "pages_df.head(30)  # use display(pages_df) in Jupyter if you prefer\n"
   ]
  },
  {
   "cell_type": "code",
   "execution_count": null,
   "id": "9e243ecd",
   "metadata": {},
   "outputs": [],
   "source": []
  },
  {
   "cell_type": "code",
   "execution_count": null,
   "id": "41eec35e",
   "metadata": {},
   "outputs": [],
   "source": []
  },
  {
   "cell_type": "code",
   "execution_count": null,
   "id": "b2c5cf97",
   "metadata": {},
   "outputs": [],
   "source": []
  },
  {
   "cell_type": "code",
   "execution_count": null,
   "id": "dc50a886",
   "metadata": {},
   "outputs": [
    {
     "name": "stdout",
     "output_type": "stream",
     "text": [
      "Total pages found: 4\n",
      "           id                        title description parentId  \\\n",
      "0   333365150      Example Sales Dashboard        None     None   \n",
      "1    51087845  Example Marketing Dashboard        None     None   \n",
      "2  1439666643          Ecommerce Dashboard        None     None   \n",
      "3  1195479659              Sales Dashboard        None     None   \n",
      "\n",
      "   childrenCount isFavorite   url  \n",
      "0              0       None  None  \n",
      "1              0       None  None  \n",
      "2              0       None  None  \n",
      "3              0       None  None  \n",
      "Page ID: 1439666643\n"
     ]
    }
   ],
   "source": [
    "from pydomo import Domo\n",
    "from dotenv import load_dotenv\n",
    "import os\n",
    "from importlib import reload\n",
    "import pandas as pd\n",
    "\n",
    "reload(dotenv)\n",
    "load_dotenv(override=True)\n",
    "\n",
    "CLIENT_ID = os.getenv('DOMO_CLIENT_ID') or input('DOMO_CLIENT_ID: ').strip()\n",
    "CLIENT_SECRET = os.getenv('DOMO_CLIENT_SECRET') or getpass.getpass('DOMO_CLIENT_SECRET: ')\n",
    "API_HOST = os.getenv('DOMO_API_HOST', 'api.domo.com').strip()\n",
    "\n",
    "# Create authenticated client\n",
    "domo = Domo(CLIENT_ID, CLIENT_SECRET, api_host=API_HOST, logger_name='pydomo')\n",
    "\n",
    "def list_pages_df(domo: 'Domo') -> pd.DataFrame:\n",
    "    \"\"\"Return DataFrame of pages (dashboards) accessible by the API client.\"\"\"\n",
    "    pages = domo.page_list()\n",
    "    rows = []\n",
    "    for p in pages:\n",
    "        rows.append({\n",
    "            'id': p.get('id'),\n",
    "            'title': p.get('title') or p.get('name'),\n",
    "            'description': p.get('description'),\n",
    "            'parentId': p.get('parentId'),\n",
    "            'childrenCount': len(p.get('children', [])) if isinstance(p.get('children'), list) else None,\n",
    "            'isFavorite': p.get('favorite') if 'favorite' in p else None,\n",
    "            'url': p.get('url') or p.get('link')\n",
    "        })\n",
    "    return pd.DataFrame(rows)\n",
    "\n",
    "\n",
    "pages_df = list_pages_df(domo)\n",
    "print('Total pages found:', len(pages_df))\n",
    "pages_df.head(30)\n",
    "print(pages_df)\n",
    "\n",
    "#Chane dashboard id to get the data\n",
    "page_id = pages_df.loc[\n",
    "    pages_df['title'].str.lower().str.strip() == 'Ecommerce Dashboard',\n",
    "    'id'\n",
    "].squeeze()\n",
    "\n",
    "if pd.notna(page_id):\n",
    "    print(f\"Page ID: {page_id}\")\n",
    "else:\n",
    "    print(\"Page with title 'Ecommerce Dashboard' not found.\")\n",
    "    "
   ]
  },
  {
   "cell_type": "code",
   "execution_count": 1,
   "id": "a4955c48",
   "metadata": {},
   "outputs": [
    {
     "name": "stderr",
     "output_type": "stream",
     "text": [
      "/Users/aswinkanna/Domo test/.venv/lib/python3.9/site-packages/urllib3/__init__.py:35: NotOpenSSLWarning: urllib3 v2 only supports OpenSSL 1.1.1+, currently the 'ssl' module is compiled with 'LibreSSL 2.8.3'. See: https://github.com/urllib3/urllib3/issues/3020\n",
      "  warnings.warn(\n"
     ]
    },
    {
     "name": "stdout",
     "output_type": "stream",
     "text": [
      "Page ID: 1195479659\n",
      "Page Details:\n",
      "[{'id': '190576085', 'title': 'Sales Dashboard Advanced', 'type': 'page', 'locked': False, 'sharedView': True, 'pageVisible': True, 'owner': 1598896440, 'owners': [{'id': 1598896440, 'type': 'USER', 'displayName': 'Harini Ganga'}], 'isOwner': False, 'canAddCard': False, 'bibHiddenPage': False, 'hasAccess': True}, {'id': '333365150', 'title': 'Example Sales Dashboard', 'type': 'page', 'locked': False, 'sharedView': True, 'pageVisible': True, 'owner': 27, 'owners': [{'id': 27, 'type': 'USER', 'displayName': 'DomoSupport'}], 'isOwner': False, 'canAddCard': False, 'bibHiddenPage': False, 'hasAccess': True}, {'id': '51087845', 'title': 'Example Marketing Dashboard', 'type': 'page', 'locked': False, 'sharedView': True, 'pageVisible': True, 'owner': 27, 'owners': [{'id': 27, 'type': 'USER', 'displayName': 'DomoSupport'}], 'isOwner': False, 'canAddCard': False, 'bibHiddenPage': False, 'hasAccess': True}, {'id': '1439666643', 'title': 'Ecommerce Dashboard', 'type': 'page', 'locked': False, 'sharedView': True, 'pageVisible': True, 'owner': 1598896440, 'owners': [{'id': 1598896440, 'type': 'USER', 'displayName': 'Harini Ganga'}], 'isOwner': False, 'canAddCard': False, 'bibHiddenPage': False, 'hasAccess': True}, {'id': '1195479659', 'title': 'Sales Dashboard', 'type': 'page', 'locked': False, 'sharedView': True, 'pageVisible': True, 'owner': 1598896440, 'owners': [{'id': 1598896440, 'type': 'USER', 'displayName': 'Harini Ganga'}], 'isOwner': False, 'canAddCard': False, 'bibHiddenPage': False, 'hasAccess': True}]\n"
     ]
    }
   ],
   "source": [
    "#DOMO API code starts here\n",
    "import requests\n",
    "from dotenv import load_dotenv\n",
    "import os\n",
    "from importlib import reload\n",
    "import dotenv\n",
    "\n",
    "reload(dotenv)\n",
    "load_dotenv(override=True)\n",
    "instance = os.getenv(\"DOMO_INSTANCE\")\n",
    "developer_token = os.getenv(\"DOMO_DEVELOPER_TOKEN\")\n",
    "page_id = 1195479659\n",
    "print(f\"Page ID: {page_id}\")\n",
    "\n",
    "url = f\"https://{instance}.domo.com/api/content/v1/pages\"\n",
    "headers = {\n",
    "    \"X-DOMO-Developer-Token\": developer_token,\n",
    "    \"Content-Type\": \"application/json\"\n",
    "}\n",
    "\n",
    "response = requests.get(url, headers=headers)\n",
    "if response.status_code == 200:\n",
    "    page_details = response.json()\n",
    "    print(\"Page Details:\")\n",
    "    print(page_details)\n",
    "else:\n",
    "    print(\"Failed to fetch page details:\", response.status_code, response.text)\n"
   ]
  },
  {
   "cell_type": "code",
   "execution_count": 123,
   "id": "64bb587e",
   "metadata": {},
   "outputs": [
    {
     "name": "stdout",
     "output_type": "stream",
     "text": [
      "Page ID: 1195479659\n",
      "Page Details:\n",
      "{'pageId': 1195479659, 'ownerId': 1598896440, 'owners': [{'id': 1598896440, 'type': 'USER', 'displayName': 'Harini Ganga'}], 'type': 'page', 'title': 'Sales Dashboard', 'pageName': 'Sales Dashboard1', 'created': 1757308949000, 'updated': 1757412031577, 'locked': False, 'mobileEnabled': True, 'sharedViewPage': True, 'virtualPage': False, 'isOwner': False}\n"
     ]
    }
   ],
   "source": [
    "#DOMO API code starts here\n",
    "import requests\n",
    "from dotenv import load_dotenv\n",
    "import os\n",
    "from importlib import reload\n",
    "import dotenv\n",
    "\n",
    "reload(dotenv)\n",
    "load_dotenv(override=True)\n",
    "instance = os.getenv(\"DOMO_INSTANCE\")\n",
    "developer_token = os.getenv(\"DOMO_DEVELOPER_TOKEN\")\n",
    "page_id = 1195479659\n",
    "print(f\"Page ID: {page_id}\")\n",
    "\n",
    "url = f\"https://{instance}.domo.com/api/content/v1/pages/{page_id}\"\n",
    "headers = {\n",
    "    \"X-DOMO-Developer-Token\": developer_token,\n",
    "    \"Content-Type\": \"application/json\"\n",
    "}\n",
    "\n",
    "response = requests.get(url, headers=headers)\n",
    "if response.status_code == 200:\n",
    "    page_details = response.json()\n",
    "    print(\"Page Details:\")\n",
    "    print(page_details)\n",
    "else:\n",
    "    print(\"Failed to fetch page details:\", response.status_code, response.text)\n"
   ]
  },
  {
   "cell_type": "code",
   "execution_count": 138,
   "id": "1a5cc670",
   "metadata": {},
   "outputs": [
    {
     "name": "stdout",
     "output_type": "stream",
     "text": [
      "resp <Response [200]>\n",
      "Found 9 cards in 'Options Report'\n",
      "- Card ID: 1768126599, Title: Harini Ganga's Notebook Sep 8, 2025\n",
      "- Card ID: 1646345374, Title: sales3\n",
      "- Card ID: 1429903375, Title: Sales By Category\n",
      "- Card ID: 2102932184, Title: Sales by area\n",
      "- Card ID: 1150560925, Title: Sales by City\n",
      "- Card ID: 1628734641, Title: Sales vs Profit\n",
      "- Card ID: 405522535, Title: Regional Sales Report\n",
      "- Card ID: 1370501068, Title: Sales Heatmap\n",
      "- Card ID: 270078103, Title: Product Performance Matrix\n"
     ]
    }
   ],
   "source": [
    "url = f\"https://{instance}.domo.com/api/content/v1/pages/{page_id}/cards\"\n",
    "\n",
    "response = requests.get(url, headers=headers)\n",
    "print(\"resp\",response)\n",
    "if response.status_code == 200:\n",
    "    cards = response.json()\n",
    "    print(f\"Found {len(cards)} cards in 'Options Report'\")\n",
    "    \n",
    "    for card in cards:\n",
    "        print(f\"- Card ID: {card['id']}, Title: {card['title']}\")\n",
    "else:\n",
    "    print(\"Failed to fetch cards:\", response.status_code, response.text)\n"
   ]
  },
  {
   "cell_type": "code",
   "execution_count": 125,
   "id": "7279d97e",
   "metadata": {},
   "outputs": [
    {
     "name": "stdout",
     "output_type": "stream",
     "text": [
      "[{'urn': '1768126599', 'id': 1768126599, 'type': 'Text', 'created': 1757323423, 'badgeUpdated': 1757323958000, 'creatorId': 1598896440, 'ownerId': 1598896440, 'title': \"Harini Ganga's Notebook Sep 8, 2025\", 'active': True, 'allowTableDrill': True, 'locked': False}, {'urn': '1646345374', 'id': 1646345374, 'type': 'kpi', 'created': 1757321784, 'badgeUpdated': 1757397291000, 'creatorId': 1598896440, 'ownerId': 1598896440, 'title': 'sales3', 'active': True, 'allowTableDrill': True, 'locked': False}, {'urn': '1429903375', 'id': 1429903375, 'type': 'kpi', 'created': 1757392236, 'badgeUpdated': 1757397305000, 'creatorId': 1598896440, 'ownerId': 1598896440, 'title': 'Sales By Category', 'active': True, 'allowTableDrill': True, 'locked': False}, {'urn': '2102932184', 'id': 2102932184, 'type': 'kpi', 'created': 1757321181, 'badgeUpdated': 1757397616000, 'creatorId': 1598896440, 'ownerId': 1598896440, 'title': 'Sales by area', 'active': True, 'allowTableDrill': True, 'locked': False}, {'urn': '1150560925', 'id': 1150560925, 'type': 'kpi', 'created': 1757320393, 'badgeUpdated': 1757397000000, 'creatorId': 1598896440, 'ownerId': 1598896440, 'title': 'Sales by City', 'active': True, 'allowTableDrill': True, 'locked': False}, {'urn': '1628734641', 'id': 1628734641, 'type': 'kpi', 'created': 1757322210, 'badgeUpdated': 1757397096000, 'creatorId': 1598896440, 'ownerId': 1598896440, 'title': 'Sales vs Profit', 'active': True, 'allowTableDrill': True, 'locked': False}, {'urn': '405522535', 'id': 405522535, 'type': 'kpi', 'created': 1757321547, 'badgeUpdated': 1757397258000, 'creatorId': 1598896440, 'ownerId': 1598896440, 'title': 'Regional Sales Report', 'active': True, 'allowTableDrill': True, 'locked': False}, {'urn': '1370501068', 'id': 1370501068, 'type': 'kpi', 'created': 1757319978, 'badgeUpdated': 1757393543000, 'creatorId': 1598896440, 'ownerId': 1598896440, 'title': 'Sales Heatmap', 'active': True, 'allowTableDrill': True, 'locked': False}, {'urn': '270078103', 'id': 270078103, 'type': 'kpi', 'created': 1757394487, 'badgeUpdated': 1757397165000, 'creatorId': 1598896440, 'ownerId': 1598896440, 'title': 'Product Performance Matrix', 'active': True, 'allowTableDrill': True, 'locked': False}]\n"
     ]
    }
   ],
   "source": [
    "url = f\"https://{instance}.domo.com/api/content/v1/pages/{page_id}/cards\"\n",
    "response = requests.get(url, headers=headers)\n",
    "print(response.json())"
   ]
  },
  {
   "cell_type": "code",
   "execution_count": null,
   "id": "912a266d",
   "metadata": {},
   "outputs": [
    {
     "name": "stdout",
     "output_type": "stream",
     "text": [
      "405522535 200 {\"data\":{\"datasource\":\"cd8b7651-9d72-42c2-bfe2-456113df8d1c\",\"columns\":[\"Region\",\"Profit Margin\",\"Segment\"],\"aliases\":[\"Region\",\"Profit Margin\",\"Segment\"],\"formats\":[null,{\"type\":\"number\",\"format\":\"#,###.00\",\"commas\":true,\"precision\":2},null],\"mappings\":[\"ITEM\",\"VALUE\",\"SERIES\"],\"metadata\":[{\"type\":\"STRING\",\"dataSourceId\":\"cd8b7651-9d72-42c2-bfe2-456113df8d1c\",\"maxLength\":-1,\"minLength\":-1,\"periodIndex\":0,\"aggregated\":false,\"label\":\"Region\",\"column\":\"Region\"},{\"type\":\"DOUBLE\",\"dataSourceId\":\"cd8b7651-9d72-42c2-bfe2-456113df8d1c\",\"maxLength\":-1,\"minLength\":-1,\"periodIndex\":0,\"aggregated\":true,\"label\":\"Profit Margin\",\"column\":\"Profit Margin\"},{\"type\":\"STRING\",\"dataSourceId\":\"cd8b7651-9d72-42c2-bfe2-456113df8d1c\",\"maxLength\":-1,\"minLength\":-1,\"periodIndex\":0,\"aggregated\":false,\"label\":\"Segment\",\"column\":\"Segment\"}],\"fromcache\":true,\"rows\":[[\"East\",11.449844347422735,\"Consumer\"],[\"South\",15.069346533197582,\"Consumer\"],[\"Central\",-1.388085888121337,\"Consumer\"],[\"West\",16.194062248178525,\"Consumer\"],[\"East\",8.951153341656513,\"Corporate\"],[\"South\",13.837747753247529,\"Corporate\"],[\"Central\",18.070765799874277,\"Corporate\"],[\"West\",14.818224542362687,\"Corporate\"],[\"East\",21.110315323126343,\"Home Office\"],[\"South\",0.44644780275177215,\"Home Office\"],[\"Central\",17.177881841587332,\"Home Office\"],[\"West\",8.810969807341323,\"Home Office\"]],\"numRows\":12,\"numColumns\":3,\"columnFormats\":{\"Profit Margin\":{\"type\":\"number\",\"format\":\"#,###.00\",\"commas\":true,\"precision\":2}}},\"dataType\":\"\",\"summaryNumber\":\"\",\"summary\":{\"value\":\"\",\"status\":\"not_ran\"}}\n",
      "1370501068 200 {\"data\":{\"datasource\":\"cd8b7651-9d72-42c2-bfe2-456113df8d1c\",\"columns\":[\"Sub_Category\",\"Sales\",\"Category\"],\"aliases\":[\"Sub_Category\",\"Sales\",\"Category\"],\"formats\":[null,{\"type\":\"number\",\"format\":\"#,###.00\",\"commas\":true,\"precision\":2},null],\"mappings\":[\"ITEM\",\"VALUE\",\"SERIES\"],\"metadata\":[{\"type\":\"STRING\",\"dataSourceId\":\"cd8b7651-9d72-42c2-bfe2-456113df8d1c\",\"maxLength\":-1,\"minLength\":-1,\"periodIndex\":0,\"aggregated\":false,\"label\":\"Sub_Category\",\"column\":\"Sub_Category\"},{\"type\":\"DOUBLE\",\"dataSourceId\":\"cd8b7651-9d72-42c2-bfe2-456113df8d1c\",\"maxLength\":-1,\"minLength\":-1,\"periodIndex\":0,\"aggregated\":true,\"label\":\"Sales\",\"column\":\"Sales\"},{\"type\":\"STRING\",\"dataSourceId\":\"cd8b7651-9d72-42c2-bfe2-456113df8d1c\",\"maxLength\":-1,\"minLength\":-1,\"periodIndex\":0,\"aggregated\":false,\"label\":\"Category\",\"column\":\"Category\"}],\"fromcache\":true,\"rows\":[[\"Labels\",37.38751711711722,\"Office Supplies\"],[\"Paper\",59.71104429920093,\"Office Supplies\"],[\"Furnishings\",98.53795367070602,\"Furniture\"],[\"Storage\",263.0944269919943,\"Office Supplies\"],[\"Chairs\",552.33818627451,\"Furniture\"],[\"Binders\",127.0624257359496,\"Office Supplies\"],[\"Fasteners\",13.834713872832392,\"Office Supplies\"],[\"Tables\",641.6998405555545,\"Furniture\"],[\"Art\",33.23194194107427,\"Office Supplies\"],[\"Appliances\",246.67760832137793,\"Office Supplies\"],[\"Phones\",368.82612075198716,\"Technology\"],[\"Supplies\",248.9322237762234,\"Office Supplies\"],[\"Bookcases\",585.9532907624651,\"Furniture\"],[\"Accessories\",214.3152430313575,\"Technology\"],[\"Envelopes\",64.53297896213176,\"Office Supplies\"],[\"Machines\",1835.314161879893,\"Technology\"],[\"Copiers\",2212.4966857142845,\"Technology\"]],\"numRows\":17,\"numColumns\":3,\"columnFormats\":{\"Sales\":{\"type\":\"number\",\"format\":\"#,###.00\",\"commas\":true,\"precision\":2}}},\"dataType\":\"\",\"summaryNumber\":\"\",\"summary\":{\"value\":\"\",\"status\":\"not_ran\"}}\n"
     ]
    }
   ],
   "source": [
    "for card in cards:\n",
    "    card_id = card['id']\n",
    "    url = f\"https://{instance}.domo.com/api/content/v1/cards/{card_id}/data\"\n",
    "    response = requests.get(url, headers=headers)\n",
    "    \n",
    "    print(card_id,response.status_code, response.text)\n",
    "    \n"
   ]
  },
  {
   "cell_type": "code",
   "execution_count": 167,
   "id": "6db66632",
   "metadata": {},
   "outputs": [
    {
     "name": "stdout",
     "output_type": "stream",
     "text": [
      "405522535 200\n",
      "Card 405522535 → Dimensions: ['Region', 'Segment'], Measures: ['Profit Margin']\n"
     ]
    }
   ],
   "source": [
    "cards = [{\"id\": 405522535}] \n",
    "for card in cards:\n",
    "    card_id = card['id']\n",
    "    url = f\"https://{instance}.domo.com/api/content/v1/cards/{card_id}/data\"\n",
    "    response = requests.get(url, headers=headers)\n",
    "    print(card_id, response.status_code)\n",
    "\n",
    "    if response.status_code == 200:\n",
    "        data = response.json().get(\"data\", {})\n",
    "        metadata = data.get(\"metadata\", [])\n",
    "\n",
    "        dimensions = [m[\"column\"] for m in metadata if not m.get(\"aggregated\", False)]\n",
    "        measures   = [m[\"column\"] for m in metadata if m.get(\"aggregated\", False)]\n",
    "\n",
    "        print(f\"Card {card_id} → Dimensions: {dimensions}, Measures: {measures}\")\n",
    "    else:\n",
    "        print(\"Error:\", response.text)"
   ]
  },
  {
   "cell_type": "code",
   "execution_count": 169,
   "id": "0f1380b4",
   "metadata": {},
   "outputs": [
    {
     "name": "stdout",
     "output_type": "stream",
     "text": [
      "Error: 404 {\"status\":404,\"statusReason\":\"Not Found\",\"message\":\"No static resource api/query/v1/calculatedFields/cd8b7651-9d72-42c2-bfe2-456113df8d1c.\",\"toe\":\"K329TT3M2Y-FMJN8-LAVN1\"}\n"
     ]
    }
   ],
   "source": [
    "import requests\n",
    "import os\n",
    "from dotenv import load_dotenv\n",
    "\n",
    "# Load environment variables (DOMO_INSTANCE, DOMO_DEVELOPER_TOKEN)\n",
    "load_dotenv()\n",
    "instance = os.getenv(\"DOMO_INSTANCE\")\n",
    "developer_token = os.getenv(\"DOMO_DEVELOPER_TOKEN\")\n",
    "\n",
    "# Replace with your dataset ID (sales3 dataset ID from Domo)\n",
    "dataset_id = \"cd8b7651-9d72-42c2-bfe2-456113df8d1c\"\n",
    "\n",
    "url = f\"https://{instance}.domo.com/api/query/v1/calculatedFields/{dataset_id}\"\n",
    "headers = {\n",
    "    \"X-DOMO-Developer-Token\": developer_token,\n",
    "    \"Content-Type\": \"application/json\"\n",
    "}\n",
    "\n",
    "response = requests.get(url, headers=headers)\n",
    "\n",
    "if response.status_code == 200:\n",
    "    calculated_fields = response.json()\n",
    "    for field in calculated_fields:\n",
    "        name = field.get(\"name\")\n",
    "        formula = field.get(\"expression\")\n",
    "        print(f\"Calculated Field: {name} → Formula: {formula}\")\n",
    "else:\n",
    "    print(\"Error:\", response.status_code, response.text)\n"
   ]
  },
  {
   "cell_type": "code",
   "execution_count": null,
   "id": "75c375db",
   "metadata": {},
   "outputs": [
    {
     "name": "stdout",
     "output_type": "stream",
     "text": [
      "{'users': [{'attributes': [{'key': 'id', 'values': [1598896440]}, {'key': 'displayName', 'values': ['Harini Ganga']}, {'key': 'userName', 'values': ['harini@squareshift.co']}, {'key': 'emailAddress', 'values': ['harini@squareshift.co']}, {'key': 'roleId', 'values': [1]}], 'id': 1598896440, 'displayName': 'Harini Ganga', 'userName': 'harini@squareshift.co', 'roleId': 1, 'emailAddress': 'harini@squareshift.co'}]}\n",
      "ID: 1598896440\n",
      "Name: Harini Ganga\n",
      "Username: harini@squareshift.co\n",
      "Email: harini@squareshift.co\n",
      "Role ID: 1\n",
      "No groups or error: 404\n"
     ]
    }
   ],
   "source": [
    "user_id = \"1598896440\"\n",
    "url = f\"https://{instance}.domo.com/api/identity/v1/users/{user_id}\"\n",
    "response = requests.get(url, headers=headers)\n",
    "print(response.json())\n",
    "if response.status_code == 200:\n",
    "    response_json = response.json()\n",
    "    user = response_json['users'][0]\n",
    "\n",
    "    user_id = user['id']\n",
    "    name = user['displayName']\n",
    "    username = user['userName']\n",
    "    email = user['emailAddress']\n",
    "    role_id = user['roleId']\n",
    "\n",
    "    print(f\"ID: {user_id}\")\n",
    "    print(f\"Name: {name}\")\n",
    "    print(f\"Username: {username}\")\n",
    "    print(f\"Email: {email}\")\n",
    "    print(f\"Role ID: {role_id}\")\n",
    "else:\n",
    "    print(f\"Error {response.status_code}: {response.text}\")\n",
    "#DATASET access\n",
    "# --- DATASET ACCESS ---\n",
    "url = f\"https://{instance}.domo.com/api/users/v1/{user_id}/datasets\"\n",
    "response = requests.get(url, headers=headers)\n",
    "if response.status_code == 200 and response.text:\n",
    "    datasets = response.json()\n",
    "    for ds in datasets:\n",
    "        print(f\"Dataset: {ds.get('name')}, ID: {ds.get('id')}\")\n",
    "else:\n",
    "    print(f\"No datasets or error: {response.status_code}\")\n",
    "\n",
    "# --- CARD ACCESS ---\n",
    "url = f\"https://{instance}.domo.com/api/users/v1/{user_id}/cards\"\n",
    "response = requests.get(url, headers=headers)\n",
    "if response.status_code == 200 and response.text:\n",
    "    cards = response.json()\n",
    "    for card in cards:\n",
    "        print(f\"Card: {card.get('name')}, ID: {card.get('id')}\")\n",
    "else:\n",
    "    print(f\"No cards or error: {response.status_code}\")\n",
    "\n",
    "# --- GROUPS ---\n",
    "url = f\"https://{instance}.domo.com/api/users/v1/{user_id}/groups\"\n",
    "response = requests.get(url, headers=headers)\n",
    "if response.status_code == 200 and response.text:\n",
    "    groups = response.json()\n",
    "    for group in groups:\n",
    "        print(f\"Group: {group.get('name')}, ID: {group.get('id')}\")\n",
    "else:\n",
    "    print(f\"No groups or error: {response.status_code}\")\n"
   ]
  },
  {
   "cell_type": "code",
   "execution_count": null,
   "id": "4d30ddbe",
   "metadata": {},
   "outputs": [
    {
     "name": "stdout",
     "output_type": "stream",
     "text": [
      "✅ Dataset details and permissions retrieved successfully\n",
      "{'dataSources': [{'id': '7f836889-b681-4a75-94da-e29be19ab3fa', 'displayType': 'domo-federateddata', 'dataProviderType': 'domo-federateddata', 'type': 'domo-federateddata', 'name': 'Sample Marketing Data', 'description': 'Sample dataset with common marketing KPIs', 'owner': {'id': '1598896440', 'name': 'Harini Ganga', 'type': 'USER', 'group': False}, 'status': 'SUCCESS', 'created': 1756872252000, 'lastTouched': 1757540260000, 'lastUpdated': 1757540259731, 'rowCount': 1000, 'columnCount': 16, 'cardInfo': {'cardCount': 0, 'cardViewCount': 0}, 'properties': {'formulas': {'formulas': {}}}, 'state': 'IDLE', 'validConfiguration': True, 'validAccount': True, 'streamId': 1, 'transportType': 'PUBLISH', 'adc': False, 'adcExternal': False, 'masked': False, 'currentUserFullAccess': True, 'permissions': 'READ', 'hidden': False, 'scheduleActive': True}, {'id': 'e0edd4e8-3b38-4eb6-8284-fe4081f1e957', 'displayType': 'domo-federateddata', 'dataProviderType': 'domo-federateddata', 'type': 'domo-federateddata', 'name': 'Sample Sales Data', 'description': 'Sample dataset with common sales KPIs', 'owner': {'id': '1598896440', 'name': 'Harini Ganga', 'type': 'USER', 'group': False}, 'status': 'SUCCESS', 'created': 1756872256000, 'lastTouched': 1757534897000, 'lastUpdated': 1757534896820, 'rowCount': 10000, 'columnCount': 12, 'cardInfo': {'cardCount': 0, 'cardViewCount': 0}, 'properties': {'formulas': {'formulas': {}}}, 'state': 'IDLE', 'validConfiguration': True, 'validAccount': True, 'streamId': 3, 'transportType': 'PUBLISH', 'adc': False, 'adcExternal': False, 'masked': False, 'currentUserFullAccess': True, 'permissions': 'READ', 'hidden': False, 'scheduleActive': True}, {'id': '0b751345-c534-4cde-8fab-1fa74dd0a96b', 'displayType': 'google-bigquery-service', 'dataProviderType': 'google-bigquery-service', 'type': 'google-bigquery-service', 'name': 'order_data', 'description': '', 'owner': {'id': '1598896440', 'name': 'Harini Ganga', 'type': 'USER', 'group': False}, 'status': 'SUCCESS', 'created': 1757408738000, 'lastTouched': 1757515338000, 'lastUpdated': 1757515337614, 'rowCount': 26334, 'columnCount': 24, 'cardInfo': {'cardCount': 0, 'cardViewCount': 0}, 'properties': {'formulas': {'formulas': {}}}, 'state': 'SUCCESS', 'validConfiguration': True, 'validAccount': True, 'accountId': 3, 'streamId': 18, 'transportType': 'CONNECTOR', 'adc': False, 'adcExternal': False, 'masked': False, 'currentUserFullAccess': True, 'cloudId': 'domo', 'cloudName': 'Domo', 'permissions': 'NONE', 'hidden': False, 'scheduleActive': True, 'cloudEngine': 'domo'}, {'id': 'b00914f0-a4f1-4e57-ab8c-808afa6b1d15', 'displayType': 'google-bigquery-service', 'dataProviderType': 'google-bigquery-service', 'type': 'google-bigquery-service', 'name': 'Region', 'description': '', 'owner': {'id': '1598896440', 'name': 'Harini Ganga', 'type': 'USER', 'group': False}, 'status': 'SUCCESS', 'created': 1757408841000, 'lastTouched': 1757513886000, 'lastUpdated': 1757513885346, 'nextUpdate': 1757600279827, 'rowCount': 4, 'columnCount': 4, 'cardInfo': {'cardCount': 0, 'cardViewCount': 0}, 'properties': {'formulas': {'formulas': {}}}, 'state': 'SUCCESS', 'validConfiguration': True, 'validAccount': True, 'accountId': 3, 'streamId': 19, 'transportType': 'CONNECTOR', 'adc': False, 'adcExternal': False, 'masked': False, 'currentUserFullAccess': True, 'cloudId': 'domo', 'cloudName': 'Domo', 'permissions': 'NONE', 'hidden': False, 'scheduleActive': True, 'cloudEngine': 'domo'}, {'id': '6b4e4a80-a9a9-448e-9d46-2ecf0029321f', 'displayType': 'google-bigquery-service', 'dataProviderType': 'google-bigquery-service', 'type': 'google-bigquery-service', 'name': 'region', 'description': '', 'owner': {'id': '1598896440', 'name': 'Harini Ganga', 'type': 'USER', 'group': False}, 'status': 'SUCCESS', 'created': 1757409355000, 'lastTouched': 1757513766000, 'lastUpdated': 1757513765368, 'nextUpdate': 1757600159827, 'rowCount': 4, 'columnCount': 4, 'cardInfo': {'cardCount': 0, 'cardViewCount': 0}, 'properties': {'formulas': {'formulas': {}}}, 'state': 'SUCCESS', 'validConfiguration': True, 'validAccount': True, 'accountId': 3, 'streamId': 21, 'transportType': 'CONNECTOR', 'adc': False, 'adcExternal': False, 'masked': False, 'currentUserFullAccess': True, 'cloudId': 'domo', 'cloudName': 'Domo', 'permissions': 'NONE', 'hidden': False, 'scheduleActive': True, 'cloudEngine': 'domo'}, {'id': 'da05c6e5-ab95-4d63-9c24-521f7deccb34', 'displayType': 'google-bigquery-service', 'dataProviderType': 'google-bigquery-service', 'type': 'google-bigquery-service', 'name': 'Returns', 'description': '', 'owner': {'id': '1598896440', 'name': 'Harini Ganga', 'type': 'USER', 'group': False}, 'status': 'SUCCESS', 'created': 1757408952000, 'lastTouched': 1757513106000, 'lastUpdated': 1757513105909, 'nextUpdate': 1757599499827, 'rowCount': 296, 'columnCount': 4, 'cardInfo': {'cardCount': 0, 'cardViewCount': 0}, 'properties': {'formulas': {'formulas': {}}}, 'state': 'SUCCESS', 'validConfiguration': True, 'validAccount': True, 'accountId': 3, 'streamId': 20, 'transportType': 'CONNECTOR', 'adc': False, 'adcExternal': False, 'masked': False, 'currentUserFullAccess': True, 'cloudId': 'domo', 'cloudName': 'Domo', 'permissions': 'NONE', 'hidden': False, 'scheduleActive': True, 'cloudEngine': 'domo'}, {'id': '91130b95-80c2-4c9c-8661-8c1e6ff0aab5', 'displayType': 'google-bigquery-service', 'dataProviderType': 'google-bigquery-service', 'type': 'google-bigquery-service', 'name': 'USERS', 'description': '', 'owner': {'id': '1598896440', 'name': 'Harini Ganga', 'type': 'USER', 'group': False}, 'status': 'SUCCESS', 'created': 1757311437000, 'lastTouched': 1757503986000, 'lastUpdated': 1757503985282, 'nextUpdate': 1757590379827, 'rowCount': 8, 'columnCount': 6, 'cardInfo': {'cardCount': 0, 'cardViewCount': 0}, 'properties': {'formulas': {'formulas': {}}}, 'state': 'SUCCESS', 'validConfiguration': True, 'validAccount': True, 'accountId': 3, 'streamId': 17, 'transportType': 'CONNECTOR', 'adc': False, 'adcExternal': False, 'masked': False, 'currentUserFullAccess': True, 'cloudId': 'domo', 'cloudName': 'Domo', 'permissions': 'NONE', 'hidden': False, 'scheduleActive': True, 'cloudEngine': 'domo'}, {'id': 'edde1f71-cef4-4caf-91d3-d118d5cdfe41', 'displayType': 'google-bigquery-service', 'dataProviderType': 'google-bigquery-service', 'type': 'google-bigquery-service', 'name': 'ORDER DETAILS', 'description': '', 'owner': {'id': '1598896440', 'name': 'Harini Ganga', 'type': 'USER', 'group': False}, 'status': 'SUCCESS', 'created': 1757310376000, 'lastTouched': 1757503632000, 'lastUpdated': 1757503631960, 'nextUpdate': 1757590019827, 'rowCount': 9994, 'columnCount': 23, 'cardInfo': {'cardCount': 0, 'cardViewCount': 0}, 'properties': {'formulas': {'formulas': {}}}, 'state': 'SUCCESS', 'validConfiguration': True, 'validAccount': True, 'accountId': 3, 'streamId': 16, 'transportType': 'CONNECTOR', 'adc': False, 'adcExternal': False, 'masked': False, 'currentUserFullAccess': True, 'cloudId': 'domo', 'cloudName': 'Domo', 'permissions': 'NONE', 'hidden': False, 'scheduleActive': True, 'cloudEngine': 'domo'}, {'id': '5d76d811-51f5-4058-9200-8d24f937e742', 'displayType': 'google-bigquery-service', 'dataProviderType': 'google-bigquery-service', 'type': 'google-bigquery-service', 'name': 'ORDERS', 'description': '', 'owner': {'id': '1598896440', 'name': 'Harini Ganga', 'type': 'USER', 'group': False}, 'status': 'SUCCESS', 'created': 1757309729000, 'lastTouched': 1757502312000, 'lastUpdated': 1757502312189, 'nextUpdate': 1757588699827, 'rowCount': 9994, 'columnCount': 22, 'cardInfo': {'cardCount': 0, 'cardViewCount': 0}, 'properties': {'formulas': {'formulas': {}}}, 'state': 'SUCCESS', 'validConfiguration': True, 'validAccount': True, 'accountId': 3, 'streamId': 15, 'transportType': 'CONNECTOR', 'adc': False, 'adcExternal': False, 'masked': False, 'currentUserFullAccess': True, 'cloudId': 'domo', 'cloudName': 'Domo', 'permissions': 'NONE', 'hidden': False, 'scheduleActive': True, 'cloudEngine': 'domo'}, {'id': 'ed1570bc-5dde-4517-ba02-d1fb66cf0f34', 'displayType': 'google-bigquery-service', 'dataProviderType': 'google-bigquery-service', 'type': 'google-bigquery-service', 'name': 'returns1', 'description': '', 'owner': {'id': '1598896440', 'name': 'Harini Ganga', 'type': 'USER', 'group': False}, 'status': 'SUCCESS', 'created': 1757478919000, 'lastTouched': 1757499546000, 'lastUpdated': 1757499545888, 'nextUpdate': 1757585939827, 'rowCount': 151, 'columnCount': 4, 'cardInfo': {'cardCount': 0, 'cardViewCount': 0}, 'properties': {'formulas': {'formulas': {}}}, 'state': 'SUCCESS', 'validConfiguration': True, 'validAccount': True, 'accountId': 3, 'streamId': 22, 'transportType': 'CONNECTOR', 'adc': False, 'adcExternal': False, 'masked': False, 'currentUserFullAccess': True, 'cloudId': 'domo', 'cloudName': 'Domo', 'permissions': 'NONE', 'hidden': False, 'scheduleActive': True, 'cloudEngine': 'domo'}, {'id': '64f98e01-3162-44ca-8a8d-ee4cc6abc9e8', 'displayType': 'DataFlow', 'type': 'DataFlow', 'name': 's/p', 'owner': {'id': '1598896440', 'name': 'Harini Ganga', 'type': 'USER', 'group': False}, 'status': 'SUCCESS', 'created': 1757419615000, 'lastTouched': 1757479261000, 'lastUpdated': 1757479260974, 'nextUpdate': 1757585939827, 'rowCount': 434354, 'columnCount': 31, 'cardInfo': {'cardCount': 11, 'cardViewCount': 0}, 'properties': {'formulas': {'formulas': {'calculation_b9782c21-59db-4fe8-981a-37e763171255': {'templateId': 89, 'id': 'calculation_b9782c21-59db-4fe8-981a-37e763171255', 'name': 'Order Completion %', 'formula': 'DATEDIFF(CURRENT_DATE(), `Order_Date`) / NULLIF(DATEDIFF(`Ship_Date`, `Order_Date`), 0)\\n', 'status': 'VALID', 'dataType': 'DECIMAL', 'persistedOnDataSource': True, 'isAggregatable': False, 'bignumber': False, 'columnPositions': [{'columnName': '`Order_Date`', 'columnPosition': 25}, {'columnName': '`Ship_Date`', 'columnPosition': 57}, {'columnName': '`Order_Date`', 'columnPosition': 70}], 'variable': False}, 'calculation_7c7f9be2-7c7b-4cfe-aef3-6f8c9fd05142': {'templateId': 90, 'id': 'calculation_7c7f9be2-7c7b-4cfe-aef3-6f8c9fd05142', 'name': 'Target', 'formula': '1', 'status': 'VALID', 'dataType': 'LONG', 'persistedOnDataSource': True, 'isAggregatable': False, 'bignumber': False, 'variable': False}, 'calculation_95fda305-4d3c-43cd-aa11-10183f26f9b3': {'templateId': 92, 'id': 'calculation_95fda305-4d3c-43cd-aa11-10183f26f9b3', 'name': 'Profit Achievement', 'formula': 'SUM(`Profit`) /10000\\n', 'status': 'VALID', 'dataType': 'DOUBLE', 'persistedOnDataSource': True, 'isAggregatable': True, 'bignumber': False, 'columnPositions': [{'columnName': '`Profit`', 'columnPosition': 4}], 'variable': False}, 'calculation_b4b6bda0-7b38-48eb-9df2-10f465b92c6f': {'templateId': 91, 'id': 'calculation_b4b6bda0-7b38-48eb-9df2-10f465b92c6f', 'name': 'Sales %', 'formula': '(SUM(`Sales`) / 1000000)\\n', 'status': 'VALID', 'dataType': 'DOUBLE', 'persistedOnDataSource': True, 'isAggregatable': True, 'bignumber': False, 'columnPositions': [{'columnName': '`Sales`', 'columnPosition': 5}], 'variable': False}}}}, 'validConfiguration': True, 'validAccount': True, 'adc': False, 'adcExternal': False, 'masked': False, 'currentUserFullAccess': True, 'cloudId': 'domo', 'cloudName': 'Domo', 'permissions': 'NONE', 'hidden': False, 'cardCount': 11, 'cloudEngine': 'domo'}, {'id': 'cd8b7651-9d72-42c2-bfe2-456113df8d1c', 'displayType': 'DataFlow', 'type': 'DataFlow', 'name': 'sales3', 'owner': {'id': '1598896440', 'name': 'Harini Ganga', 'type': 'USER', 'group': False}, 'status': 'SUCCESS', 'created': 1757316765000, 'lastTouched': 1757319475000, 'lastUpdated': 1757319474673, 'nextUpdate': 1757588699827, 'rowCount': 29906, 'columnCount': 26, 'cardInfo': {'cardCount': 11, 'cardViewCount': 0}, 'properties': {'formulas': {'formulas': {'calculation_1b42571a-a6aa-4b3d-98ff-f941d0a9d715': {'templateId': 88, 'id': 'calculation_1b42571a-a6aa-4b3d-98ff-f941d0a9d715', 'name': 'Profit Margin', 'formula': '(SUM(`Profit`) / NULLIF(SUM(`Sales`),0)) * 100\\n', 'status': 'VALID', 'dataType': 'DOUBLE', 'persistedOnDataSource': True, 'isAggregatable': True, 'bignumber': False, 'columnPositions': [{'columnName': '`Profit`', 'columnPosition': 5}, {'columnName': '`Sales`', 'columnPosition': 28}], 'variable': False}, 'calculation_6a1a6a93-0f3c-4742-9af2-543bf30be067': {'templateId': 87, 'id': 'calculation_6a1a6a93-0f3c-4742-9af2-543bf30be067', 'name': 'Month', 'formula': \"\\nDATE_FORMAT(`Order_Date`, '%b')\\n\", 'status': 'VALID', 'dataType': 'STRING', 'persistedOnDataSource': True, 'isAggregatable': False, 'bignumber': False, 'columnPositions': [{'columnName': '`Order_Date`', 'columnPosition': 13}], 'variable': False}}}}, 'validConfiguration': True, 'validAccount': True, 'adc': False, 'adcExternal': False, 'masked': False, 'currentUserFullAccess': True, 'cloudId': 'domo', 'cloudName': 'Domo', 'permissions': 'READ_SHARE', 'hidden': False, 'cardCount': 11, 'cloudEngine': 'domo'}, {'id': '6769099a-b954-4a43-ae95-3e787bbfbba1', 'displayType': 'DataFlow', 'type': 'DataFlow', 'name': 'sales1', 'owner': {'id': '1598896440', 'name': 'Harini Ganga', 'type': 'USER', 'group': False}, 'status': 'SUCCESS', 'created': 1757316071000, 'lastTouched': 1757316098000, 'lastUpdated': 1757316097699, 'nextUpdate': 1757588699827, 'rowCount': 29906, 'columnCount': 26, 'cardInfo': {'cardCount': 0, 'cardViewCount': 0}, 'properties': {'formulas': {'formulas': {}}}, 'validConfiguration': True, 'validAccount': True, 'adc': False, 'adcExternal': False, 'masked': False, 'currentUserFullAccess': True, 'cloudId': 'domo', 'cloudName': 'Domo', 'permissions': 'NONE', 'hidden': False, 'cloudEngine': 'domo'}, {'id': '3c7ed50a-c3f1-42ef-8250-c5fd9ec269d0', 'displayType': 'DataFlow', 'type': 'DataFlow', 'name': 'sales1', 'owner': {'id': '1598896440', 'name': 'Harini Ganga', 'type': 'USER', 'group': False}, 'status': 'SUCCESS', 'created': 1757314183000, 'lastTouched': 1757315243000, 'lastUpdated': 1757315243100, 'nextUpdate': 1757588699827, 'rowCount': 29906, 'columnCount': 45, 'cardInfo': {'cardCount': 0, 'cardViewCount': 0}, 'properties': {'formulas': {'formulas': {}}}, 'validConfiguration': True, 'validAccount': True, 'adc': False, 'adcExternal': False, 'masked': False, 'currentUserFullAccess': True, 'cloudId': 'domo', 'cloudName': 'Domo', 'permissions': 'NONE', 'hidden': False, 'cloudEngine': 'domo'}, {'id': '5c137920-4357-4603-9db0-3e56df268704', 'displayType': 'DataFlow', 'type': 'DataFlow', 'name': 'Sales', 'owner': {'id': '1598896440', 'name': 'Harini Ganga', 'type': 'USER', 'group': False}, 'status': 'SUCCESS', 'created': 1757311987000, 'lastTouched': 1757312489000, 'lastUpdated': 1757312489260, 'nextUpdate': 1757588699827, 'rowCount': 29906, 'columnCount': 45, 'cardInfo': {'cardCount': 0, 'cardViewCount': 0}, 'properties': {'formulas': {'formulas': {}}}, 'validConfiguration': True, 'validAccount': True, 'adc': False, 'adcExternal': False, 'masked': False, 'currentUserFullAccess': True, 'cloudId': 'domo', 'cloudName': 'Domo', 'permissions': 'NONE', 'hidden': False, 'cloudEngine': 'domo'}, {'id': 'd374ae91-6a8e-47a6-b8b1-262a6e552f06', 'displayType': 'DataFlow', 'type': 'DataFlow', 'name': 'YOD', 'owner': {'id': '1598896440', 'name': 'Harini Ganga', 'type': 'USER', 'group': False}, 'status': 'SUCCESS', 'created': 1757064005000, 'lastTouched': 1757064127000, 'lastUpdated': 1757064126543, 'rowCount': 244799, 'columnCount': 25, 'cardInfo': {'cardCount': 12, 'cardViewCount': 0}, 'properties': {'formulas': {'formulas': {'calculation_2d5830c5-fa95-4bae-9927-7094688b2393': {'templateId': 86, 'id': 'calculation_2d5830c5-fa95-4bae-9927-7094688b2393', 'name': 'Total_Sales_Cal', 'formula': '`total_sale_price`/1000', 'status': 'VALID', 'dataType': 'DOUBLE', 'persistedOnDataSource': True, 'isAggregatable': False, 'bignumber': False, 'columnPositions': [{'columnName': '`total_sale_price`', 'columnPosition': 0}], 'variable': False}}}}, 'validConfiguration': True, 'validAccount': True, 'adc': False, 'adcExternal': False, 'masked': False, 'currentUserFullAccess': True, 'cloudId': 'domo', 'cloudName': 'Domo', 'permissions': 'READ_SHARE', 'hidden': False, 'cardCount': 12, 'cloudEngine': 'domo'}, {'id': '792ca39c-9fa6-406b-837c-48f16f9f4ba6', 'displayType': 'file-upload-new', 'dataProviderType': 'file-upload-new', 'type': 'file-upload-new', 'name': 'productss', 'description': '', 'owner': {'id': '1598896440', 'name': 'Harini Ganga', 'type': 'USER', 'group': False}, 'status': 'SUCCESS', 'created': 1757062660000, 'lastTouched': 1757062667000, 'lastUpdated': 1757062666877, 'rowCount': 29120, 'columnCount': 11, 'cardInfo': {'cardCount': 0, 'cardViewCount': 0}, 'properties': {'formulas': {'formulas': {}}}, 'state': 'SUCCESS', 'validConfiguration': True, 'validAccount': True, 'streamId': 14, 'transportType': 'CONNECTOR', 'adc': False, 'adcExternal': False, 'masked': False, 'currentUserFullAccess': True, 'cloudId': 'domo', 'cloudName': 'Domo', 'permissions': 'NONE', 'hidden': False, 'scheduleActive': True, 'cloudEngine': 'domo'}, {'id': 'fab03d3a-cf1c-418f-bb05-551d41ee6410', 'displayType': 'file-upload-new', 'dataProviderType': 'file-upload-new', 'type': 'file-upload-new', 'name': 'Product', 'description': '', 'owner': {'id': '1598896440', 'name': 'Harini Ganga', 'type': 'USER', 'group': False}, 'status': 'SUCCESS', 'created': 1757062490000, 'lastTouched': 1757062497000, 'lastUpdated': 1757062496769, 'rowCount': 29120, 'columnCount': 11, 'cardInfo': {'cardCount': 0, 'cardViewCount': 0}, 'properties': {'formulas': {'formulas': {}}}, 'state': 'SUCCESS', 'validConfiguration': True, 'validAccount': True, 'streamId': 13, 'transportType': 'CONNECTOR', 'adc': False, 'adcExternal': False, 'masked': False, 'currentUserFullAccess': True, 'cloudId': 'domo', 'cloudName': 'Domo', 'permissions': 'NONE', 'hidden': False, 'scheduleActive': True, 'cloudEngine': 'domo'}, {'id': '8fc55d76-8d49-45a5-bcaf-7858a333fdb1', 'displayType': 'file-upload-new', 'dataProviderType': 'file-upload-new', 'type': 'file-upload-new', 'name': 'OrderItems', 'description': '', 'owner': {'id': '1598896440', 'name': 'Harini Ganga', 'type': 'USER', 'group': False}, 'status': 'SUCCESS', 'created': 1757062422000, 'lastTouched': 1757062437000, 'lastUpdated': 1757062436574, 'rowCount': 244799, 'columnCount': 14, 'cardInfo': {'cardCount': 0, 'cardViewCount': 0}, 'properties': {'formulas': {'formulas': {}}}, 'state': 'SUCCESS', 'validConfiguration': True, 'validAccount': True, 'streamId': 12, 'transportType': 'CONNECTOR', 'adc': False, 'adcExternal': False, 'masked': False, 'currentUserFullAccess': True, 'cloudId': 'domo', 'cloudName': 'Domo', 'permissions': 'NONE', 'hidden': False, 'scheduleActive': True, 'cloudEngine': 'domo'}, {'id': '6a934f36-0b56-4d1c-a14c-f05be6c62d51', 'displayType': 'file-upload-new', 'dataProviderType': 'file-upload-new', 'type': 'file-upload-new', 'name': 'Products', 'description': '', 'owner': {'id': '1598896440', 'name': 'Harini Ganga', 'type': 'USER', 'group': False}, 'status': 'SUCCESS', 'created': 1757055631000, 'lastTouched': 1757055638000, 'lastUpdated': 1757055637919, 'rowCount': 29120, 'columnCount': 14, 'cardInfo': {'cardCount': 0, 'cardViewCount': 0}, 'properties': {'formulas': {'formulas': {}}}, 'state': 'SUCCESS', 'validConfiguration': True, 'validAccount': True, 'streamId': 11, 'transportType': 'CONNECTOR', 'adc': False, 'adcExternal': False, 'masked': False, 'currentUserFullAccess': True, 'cloudId': 'domo', 'cloudName': 'Domo', 'permissions': 'NONE', 'hidden': False, 'scheduleActive': True, 'cloudEngine': 'domo'}, {'id': '223e9b8b-2f9b-4878-a70a-2bfdc1f5ca53', 'displayType': 'file-upload-new', 'dataProviderType': 'file-upload-new', 'type': 'file-upload-new', 'name': 'Order_Items', 'description': '', 'owner': {'id': '1598896440', 'name': 'Harini Ganga', 'type': 'USER', 'group': False}, 'status': 'SUCCESS', 'created': 1757055549000, 'lastTouched': 1757055557000, 'lastUpdated': 1757055556506, 'rowCount': 29120, 'columnCount': 14, 'cardInfo': {'cardCount': 0, 'cardViewCount': 0}, 'properties': {'formulas': {'formulas': {}}}, 'state': 'SUCCESS', 'validConfiguration': True, 'validAccount': True, 'streamId': 10, 'transportType': 'CONNECTOR', 'adc': False, 'adcExternal': False, 'masked': False, 'currentUserFullAccess': True, 'cloudId': 'domo', 'cloudName': 'Domo', 'permissions': 'NONE', 'hidden': False, 'scheduleActive': True, 'cloudEngine': 'domo'}, {'id': 'cbfab5e3-1f35-484c-a681-a1606c115370', 'displayType': 'file-upload-new', 'dataProviderType': 'file-upload-new', 'type': 'file-upload-new', 'name': 'supersales_orders.csv', 'description': '', 'owner': {'id': '1598896440', 'name': 'Harini Ganga', 'type': 'USER', 'group': False}, 'status': 'SUCCESS', 'created': 1756978758000, 'lastTouched': 1756978767000, 'lastUpdated': 1756978766995, 'rowCount': 9994, 'columnCount': 23, 'cardInfo': {'cardCount': 1, 'cardViewCount': 0}, 'properties': {'formulas': {'formulas': {}}}, 'state': 'SUCCESS', 'validConfiguration': True, 'validAccount': True, 'streamId': 9, 'transportType': 'CONNECTOR', 'adc': False, 'adcExternal': False, 'masked': False, 'currentUserFullAccess': True, 'cloudId': 'domo', 'cloudName': 'Domo', 'permissions': 'NONE', 'hidden': False, 'scheduleActive': True, 'cardCount': 1, 'cloudEngine': 'domo'}, {'id': 'fd20f804-d530-41d7-b989-6070b3655392', 'displayType': 'file-upload-new', 'dataProviderType': 'file-upload-new', 'type': 'file-upload-new', 'name': 'supersales_orders.csv', 'description': 'Sample1', 'owner': {'id': '1598896440', 'name': 'Harini Ganga', 'type': 'USER', 'group': False}, 'status': 'SUCCESS', 'created': 1756977291000, 'lastTouched': 1756977299000, 'lastUpdated': 1756977299196, 'rowCount': 9994, 'columnCount': 23, 'cardInfo': {'cardCount': 0, 'cardViewCount': 0}, 'properties': {'formulas': {'formulas': {}}}, 'state': 'SUCCESS', 'validConfiguration': True, 'validAccount': True, 'streamId': 8, 'transportType': 'CONNECTOR', 'adc': False, 'adcExternal': False, 'masked': False, 'currentUserFullAccess': True, 'cloudId': 'domo', 'cloudName': 'Domo', 'permissions': 'NONE', 'hidden': False, 'scheduleActive': True, 'cloudEngine': 'domo'}, {'id': 'ccea05c7-f434-4d25-bc4b-84d2a1b7c639', 'displayType': 'file-upload-new', 'dataProviderType': 'file-upload-new', 'type': 'file-upload-new', 'name': 'supersales_orders.csv', 'description': 'from superstore sales', 'owner': {'id': '1598896440', 'name': 'Harini Ganga', 'type': 'USER', 'group': False}, 'status': 'SUCCESS', 'created': 1756880076000, 'lastTouched': 1756880086000, 'lastUpdated': 1756880085702, 'rowCount': 9994, 'columnCount': 23, 'cardInfo': {'cardCount': 0, 'cardViewCount': 0}, 'properties': {'formulas': {'formulas': {}}}, 'state': 'SUCCESS', 'validConfiguration': True, 'validAccount': True, 'streamId': 7, 'transportType': 'CONNECTOR', 'adc': False, 'adcExternal': False, 'masked': False, 'currentUserFullAccess': True, 'cloudId': 'domo', 'cloudName': 'Domo', 'permissions': 'NONE', 'hidden': False, 'scheduleActive': True, 'cloudEngine': 'domo'}, {'id': '7c00fe14-5f70-484f-a0f6-30dc5f2ffa63', 'displayType': 'domo-federateddata', 'dataProviderType': 'domo-federateddata', 'type': 'domo-federateddata', 'name': 'Sample: Hospital Capacity Management', 'description': '', 'owner': {'id': '1598896440', 'name': 'Harini Ganga', 'type': 'USER', 'group': False}, 'status': 'SUCCESS', 'created': 1756872264000, 'lastTouched': 1756872266000, 'lastUpdated': 1756872266007, 'rowCount': 59156, 'columnCount': 189, 'cardInfo': {'cardCount': 38, 'cardViewCount': 0}, 'properties': {'formulas': {'formulas': {'9096dd8a4c6efbc0104b6a43cbfff450': {'templateId': 19, 'id': '9096dd8a4c6efbc0104b6a43cbfff450', 'name': 'Days in AR', 'formula': '(AVG(`branch_profit`)/5-50) * 10', 'status': 'VALID', 'dataType': 'DOUBLE', 'persistedOnDataSource': True, 'isAggregatable': True, 'bignumber': False, 'columnPositions': [{'columnName': '`branch_profit`', 'columnPosition': 5}], 'variable': False}, '40487b51d24ef3b77d025b92dbe0af64': {'templateId': 17, 'id': '40487b51d24ef3b77d025b92dbe0af64', 'name': 'Operating Margin', 'formula': 'AVG(`interest_rate`) * AVG(`Patients to Staff`) / 4', 'status': 'VALID', 'dataType': 'DOUBLE', 'persistedOnDataSource': True, 'isAggregatable': True, 'bignumber': False, 'columnPositions': [{'columnName': '`interest_rate`', 'columnPosition': 4}, {'columnName': '`Patients to Staff`', 'columnPosition': 27}], 'variable': False}, '51f9ecb5a23ffa72ba6757cee051a8ea': {'templateId': 34, 'id': '51f9ecb5a23ffa72ba6757cee051a8ea', 'name': 'Patient Satisfaction Score', 'formula': \"SUM(CASE WHEN `DRG Definition` LIKE '853%' THEN 1 ELSE 0 END)\\n/\\nCOUNT(`DRG Definition`) *11.9\", 'status': 'VALID', 'dataType': 'DOUBLE', 'persistedOnDataSource': True, 'isAggregatable': True, 'bignumber': False, 'columnPositions': [{'columnName': '`DRG Definition`', 'columnPosition': 14}, {'columnName': '`DRG Definition`', 'columnPosition': 70}], 'variable': False}, '88654f639897d9299b4e2ed834de0e5a': {'templateId': 23, 'id': '88654f639897d9299b4e2ed834de0e5a', 'name': 'Response 2', 'formula': \"CASE WHEN `DRG Definition` LIKE '330%' THEN 'Excellent'\\n\\n\\t WHEN `DRG Definition` LIKE '853%' OR `DRG Definition` LIKE '207%' THEN 'Above Average'\\n\\n\\t WHEN `DRG Definition` LIKE '286%' OR `DRG Definition` LIKE '244%' THEN 'Average'\\n\\n\\t WHEN `DRG Definition` LIKE '251%' OR `DRG Definition` LIKE '252%' THEN 'Below Average'\\n     \\n     ELSE 'Poor'\\n     \\nEND\\n\", 'status': 'VALID', 'dataType': 'STRING', 'persistedOnDataSource': True, 'isAggregatable': False, 'bignumber': False, 'columnPositions': [{'columnName': '`DRG Definition`', 'columnPosition': 10}, {'columnName': '`DRG Definition`', 'columnPosition': 64}, {'columnName': '`DRG Definition`', 'columnPosition': 96}, {'columnName': '`DRG Definition`', 'columnPosition': 154}, {'columnName': '`DRG Definition`', 'columnPosition': 186}, {'columnName': '`DRG Definition`', 'columnPosition': 238}, {'columnName': '`DRG Definition`', 'columnPosition': 270}], 'variable': False}, '4477350cc74c0309c9635758f1f89b07': {'templateId': 35, 'id': '4477350cc74c0309c9635758f1f89b07', 'name': 'Sort 2', 'formula': \" \\nCASE WHEN `DRG Definition` LIKE '330%' THEN 1\\n\\n\\t WHEN `DRG Definition` LIKE '853%' OR `DRG Definition` LIKE '207%' THEN 2\\n\\n\\t WHEN `DRG Definition` LIKE '286%' OR `DRG Definition` LIKE '244%' THEN 3\\n\\n\\t WHEN `DRG Definition` LIKE '251%' OR `DRG Definition` LIKE '252%' THEN 4\\n     \\n     ELSE 5\\n     \\nEND\\n\", 'status': 'VALID', 'dataType': 'LONG', 'persistedOnDataSource': True, 'isAggregatable': False, 'bignumber': False, 'columnPositions': [{'columnName': '`DRG Definition`', 'columnPosition': 12}, {'columnName': '`DRG Definition`', 'columnPosition': 56}, {'columnName': '`DRG Definition`', 'columnPosition': 88}, {'columnName': '`DRG Definition`', 'columnPosition': 132}, {'columnName': '`DRG Definition`', 'columnPosition': 164}, {'columnName': '`DRG Definition`', 'columnPosition': 208}, {'columnName': '`DRG Definition`', 'columnPosition': 240}], 'variable': False}, 'd2eaa40c1982c8f1d72081751dcccc1b': {'templateId': 30, 'id': 'd2eaa40c1982c8f1d72081751dcccc1b', 'name': 'Filter Date', 'formula': 'cASE WHEN DATE_SUB(`Requested Close`, INTERVAL 2 YEAR) <= `Current Date` THEN 1 ELSE 0 END', 'status': 'VALID', 'dataType': 'LONG', 'persistedOnDataSource': True, 'isAggregatable': False, 'bignumber': False, 'columnPositions': [{'columnName': '`Requested Close`', 'columnPosition': 19}, {'columnName': '`Current Date`', 'columnPosition': 58}], 'variable': False}, 'a3da8239160373188cd2678272dbf2b5': {'templateId': 26, 'id': 'a3da8239160373188cd2678272dbf2b5', 'name': 'Bed Occupancy Rate', 'formula': '(AVG(`loan_amount`)+(AVG(`interest_rate`)/100))\\n/\\n401812\\n\\n', 'status': 'VALID', 'dataType': 'DOUBLE', 'persistedOnDataSource': True, 'isAggregatable': True, 'bignumber': False, 'columnPositions': [{'columnName': '`loan_amount`', 'columnPosition': 5}, {'columnName': '`interest_rate`', 'columnPosition': 25}], 'variable': False}, 'cc0cb712c7aa009208c2d8dd32df051a': {'templateId': 40, 'id': 'cc0cb712c7aa009208c2d8dd32df051a', 'name': 'Variable Metric1', 'formula': \"CASE WHEN DOMO_BEAST_MODE(3) LIKE 'Admissions' THEN \\nFLOOR(((SUM(`Total Beds`) \\n/\\nCOUNT(`Provider Name`))\\n/\\n6)\\n+SUM(`Patients to Staff`))\\nWHEN DOMO_BEAST_MODE(3) = 'Avg Length of Stay (Days)' THEN AVG(`Length of Stay`) \\nWHEN DOMO_BEAST_MODE(3) = 'Bed Occupancy Rate (%)' THEN (AVG(`loan_amount`)+(AVG(`interest_rate`)/100))\\n/\\n401812\\n\\n\\nWHEN DOMO_BEAST_MODE(3) = 'Emergency Wait Time (Hours)' THEN AVG( REPLACE(LEFT(TIMEDIFF(CAST(`Encounter End time` AS DATETIME),CAST(`Encounter Start Time` AS DATETIME)),5),':','.')*1) \\nWHEN DOMO_BEAST_MODE(3) = 'Patient-to-Staff Ratio' THEN AVG(`Patients to Staff`)\\nWHEN DOMO_BEAST_MODE(3) = 'Readmission Rate (%)' THEN 32*  FLOOR(((SUM(CASE WHEN `Admission Classification` = 'Readmission' THEN `Total Beds` ELSE 0 END) \\n/\\nCOUNT(`Provider Name`))\\n/\\n6)\\n+SUM(CASE WHEN `Admission Classification` = 'Readmission' THEN `Patients to Staff` ELSE 0 END)) \\n\\n/\\n\\nFLOOR(((SUM(`Total Beds`) \\n/\\nCOUNT(`Provider Name`))\\n/\\n6)\\n+SUM(`Patients to Staff`))\\nWHEN DOMO_BEAST_MODE(3) = 'Surgery Room Utilization Rate (%)' THEN 10* (FLOOR(((SUM(CASE WHEN `Admission Classification` = 'Readmission' THEN `Total Beds` ELSE 0 END) \\n/\\nCOUNT(`Provider Name`))\\n/\\n6)\\n+SUM(CASE WHEN `Admission Classification` = 'Readmission' THEN `Patients to Staff` ELSE 0 END)) \\n\\n/\\n\\nFLOOR(((SUM(`Total Beds`) \\n/\\nCOUNT(`Provider Name`))\\n/\\n6)\\n+SUM(`Patients to Staff`))\\n/ 2 \\n+ AVG(1*`interest_rate`))\\n\\n\\nEND\", 'status': 'VALID', 'dataType': 'DOUBLE', 'persistedOnDataSource': True, 'isAggregatable': True, 'bignumber': False, 'columnPositions': [{'columnName': '`Total Beds`', 'columnPosition': 65}, {'columnName': '`Provider Name`', 'columnPosition': 88}, {'columnName': '`Patients to Staff`', 'columnPosition': 116}, {'columnName': '`Length of Stay`', 'columnPosition': 201}, {'columnName': '`loan_amount`', 'columnPosition': 281}, {'columnName': '`interest_rate`', 'columnPosition': 301}, {'columnName': '`Encounter End time`', 'columnPosition': 428}, {'columnName': '`Encounter Start Time`', 'columnPosition': 467}, {'columnName': '`Patients to Staff`', 'columnPosition': 580}, {'columnName': '`Admission Classification`', 'columnPosition': 682}, {'columnName': '`Total Beds`', 'columnPosition': 730}, {'columnName': '`Provider Name`', 'columnPosition': 764}, {'columnName': '`Admission Classification`', 'columnPosition': 802}, {'columnName': '`Patients to Staff`', 'columnPosition': 850}, {'columnName': '`Total Beds`', 'columnPosition': 900}, {'columnName': '`Provider Name`', 'columnPosition': 923}, {'columnName': '`Patients to Staff`', 'columnPosition': 951}, {'columnName': '`Admission Classification`', 'columnPosition': 1067}, {'columnName': '`Total Beds`', 'columnPosition': 1115}, {'columnName': '`Provider Name`', 'columnPosition': 1149}, {'columnName': '`Admission Classification`', 'columnPosition': 1187}, {'columnName': '`Patients to Staff`', 'columnPosition': 1235}, {'columnName': '`Total Beds`', 'columnPosition': 1285}, {'columnName': '`Provider Name`', 'columnPosition': 1308}, {'columnName': '`Patients to Staff`', 'columnPosition': 1336}, {'columnName': '`interest_rate`', 'columnPosition': 1371}], 'variable': False}, 'd8512db8f392419b84804d6aef71d16b': {'templateId': 13, 'id': 'd8512db8f392419b84804d6aef71d16b', 'name': 'Telehealth Visits', 'formula': 'FLOOR(((SUM(`Total Beds`) \\n/\\nCOUNT(`Provider Name`))\\n/\\n6)\\n+SUM(`Patients to Staff`)) * .15', 'status': 'VALID', 'dataType': 'DOUBLE', 'persistedOnDataSource': True, 'isAggregatable': True, 'bignumber': False, 'columnPositions': [{'columnName': '`Total Beds`', 'columnPosition': 12}, {'columnName': '`Provider Name`', 'columnPosition': 35}, {'columnName': '`Patients to Staff`', 'columnPosition': 63}], 'variable': False}, '641f717e672a17add9b6985a78180d2f': {'templateId': 41, 'id': '641f717e672a17add9b6985a78180d2f', 'name': 'Range Selection', 'formula': \"CASE WHEN DATE_SUB(`Requested Close`, INTERVAL 2 YEAR) >=\\nCASE WHEN DOMO_BEAST_MODE(6) LIKE 'Last 13 Weeks' THEN DATE_ADD(DATE_SUB(CURDATE(), INTERVAL 13 WEEK), INTERVAL(1-DAYOFWEEK(DATE_SUB(CURDATE(), INTERVAL 13 WEEK))) DAY)\\nWHEN DOMO_BEAST_MODE(6) LIKE 'Last 26 Weeks' THEN DATE_ADD(DATE_SUB(CURDATE(), INTERVAL 26 WEEK), INTERVAL(1-DAYOFWEEK(DATE_SUB(CURDATE(), INTERVAL 26 WEEK))) DAY)\\nWHEN DOMO_BEAST_MODE(6) LIKE 'Last 52 Weeks' THEN DATE_ADD(DATE_SUB(CURDATE(), INTERVAL 52 WEEK), INTERVAL(1-DAYOFWEEK(DATE_SUB(CURDATE(), INTERVAL 52 WEEK))) DAY)\\nWHEN DOMO_BEAST_MODE(6) LIKE 'Last 104 Weeks' THEN DATE_ADD(DATE_SUB(CURDATE(), INTERVAL 104 WEEK), INTERVAL(1-DAYOFWEEK(DATE_SUB(CURDATE(), INTERVAL 104 WEEK))) DAY)\\nEND AND\\nDATE_SUB(`Requested Close`, INTERVAL 2 YEAR) <= CURDATE() THEN 1 ELSE 0 END\", 'status': 'VALID', 'dataType': 'LONG', 'persistedOnDataSource': True, 'isAggregatable': False, 'bignumber': False, 'columnPositions': [{'columnName': '`Requested Close`', 'columnPosition': 19}, {'columnName': '`Requested Close`', 'columnPosition': 739}], 'variable': False}, '5490f4e8b25d35df8c37ada566d09348': {'templateId': 29, 'id': '5490f4e8b25d35df8c37ada566d09348', 'name': 'Total Cost', 'formula': 'SUM(`loan_amount`) * 1500\\n*\\n(Avg(`Total Beds`)*COUNT(DISTINCT `Provider Name`)*COUNT(DISTINCT `Department`)/SUM(`Cost`))', 'status': 'VALID', 'dataType': 'DOUBLE', 'persistedOnDataSource': True, 'isAggregatable': True, 'bignumber': False, 'columnPositions': [{'columnName': '`loan_amount`', 'columnPosition': 4}, {'columnName': '`Total Beds`', 'columnPosition': 33}, {'columnName': '`Provider Name`', 'columnPosition': 62}, {'columnName': '`Department`', 'columnPosition': 94}, {'columnName': '`Cost`', 'columnPosition': 112}], 'variable': False}, '4dbe241a0356b17ba9c707469f941198': {'templateId': 9, 'id': '4dbe241a0356b17ba9c707469f941198', 'name': 'Telehealth Services', 'formula': \"CASE WHEN `Randomizer2`<= 10 THEN 'Consultation'\\n\\t WHEN `Randomizer2`> 10 AND `Randomizer2` <= 20 THEN 'Patient Monitoring'\\n     WHEN `Randomizer2`> 20 AND `Randomizer2` <= 30 THEN 'Preventative Care'\\n     WHEN `Randomizer2`> 30 AND `Randomizer2` <= 40  THEN 'Specialist Referral'\\n     WHEN `Randomizer2`> 40 AND `Randomizer2` <= 50 THEN 'Post-Op Care'\\n     WHEN `Randomizer2`> 50 AND `Randomizer2` <= 60 THEN 'Other'\\n     WHEN `Randomizer2`> 60 AND `Randomizer2` <= 70 THEN 'Consultation'\\n     WHEN `Randomizer2`> 70 AND `Randomizer2` <= 80 THEN 'Consultation'\\n     WHEN `Randomizer2`> 80 AND `Randomizer2` <= 90 THEN 'Preventative Care'\\n     WHEN `Randomizer2`> 90 AND `Randomizer2` <= 100 THEN 'Patient Monitoring'\\n\\n\\nEND\", 'status': 'VALID', 'dataType': 'STRING', 'persistedOnDataSource': True, 'isAggregatable': False, 'bignumber': False, 'columnPositions': [{'columnName': '`Randomizer2`', 'columnPosition': 10}, {'columnName': '`Randomizer2`', 'columnPosition': 56}, {'columnName': '`Randomizer2`', 'columnPosition': 78}, {'columnName': '`Randomizer2`', 'columnPosition': 134}, {'columnName': '`Randomizer2`', 'columnPosition': 156}, {'columnName': '`Randomizer2`', 'columnPosition': 211}, {'columnName': '`Randomizer2`', 'columnPosition': 233}, {'columnName': '`Randomizer2`', 'columnPosition': 291}, {'columnName': '`Randomizer2`', 'columnPosition': 313}, {'columnName': '`Randomizer2`', 'columnPosition': 363}, {'columnName': '`Randomizer2`', 'columnPosition': 385}, {'columnName': '`Randomizer2`', 'columnPosition': 428}, {'columnName': '`Randomizer2`', 'columnPosition': 450}, {'columnName': '`Randomizer2`', 'columnPosition': 500}, {'columnName': '`Randomizer2`', 'columnPosition': 522}, {'columnName': '`Randomizer2`', 'columnPosition': 572}, {'columnName': '`Randomizer2`', 'columnPosition': 594}, {'columnName': '`Randomizer2`', 'columnPosition': 649}, {'columnName': '`Randomizer2`', 'columnPosition': 671}], 'variable': False}, '938284db1cfe3369129f979cc6327c5b': {'templateId': 28, 'id': '938284db1cfe3369129f979cc6327c5b', 'name': 'Denial Rates by Payer', 'formula': \"SUM(CASE WHEN `DRG Definition` LIKE '853%' THEN 1 ELSE 0 END)\\n/\\nCOUNT(`DRG Definition`)\", 'status': 'VALID', 'dataType': 'DECIMAL', 'persistedOnDataSource': True, 'isAggregatable': True, 'bignumber': False, 'columnPositions': [{'columnName': '`DRG Definition`', 'columnPosition': 14}, {'columnName': '`DRG Definition`', 'columnPosition': 70}], 'variable': False}, 'ecff3ce2b158fee7e60afcccd12a12ff': {'templateId': 12, 'id': 'ecff3ce2b158fee7e60afcccd12a12ff', 'name': 'Sort Responses', 'formula': \"CASE WHEN CASE WHEN `DRG Definition` LIKE '330%' THEN 'Neutral'\\n\\n\\t WHEN `DRG Definition` LIKE '853%' OR `DRG Definition` LIKE '177%' THEN 'Disagree'\\n\\n\\t WHEN `DRG Definition` LIKE '286%' OR `DRG Definition` LIKE '244%' THEN 'Agree'\\n\\n\\t WHEN `DRG Definition` LIKE '251%' OR `DRG Definition` LIKE '252%' THEN 'Strongly Disagree'\\n     \\n     ELSE 'Strongly Agree'\\n     \\nEND\\n = 'Strongly Agree' THEN 1 \\n WHEN CASE WHEN `DRG Definition` LIKE '330%' THEN 'Neutral'\\n\\n\\t WHEN `DRG Definition` LIKE '853%' OR `DRG Definition` LIKE '177%' THEN 'Disagree'\\n\\n\\t WHEN `DRG Definition` LIKE '286%' OR `DRG Definition` LIKE '244%' THEN 'Agree'\\n\\n\\t WHEN `DRG Definition` LIKE '251%' OR `DRG Definition` LIKE '252%' THEN 'Strongly Disagree'\\n     \\n     ELSE 'Strongly Agree'\\n     \\nEND\\n = 'Agree' THEN 2 \\n WHEN CASE WHEN `DRG Definition` LIKE '330%' THEN 'Neutral'\\n\\n\\t WHEN `DRG Definition` LIKE '853%' OR `DRG Definition` LIKE '177%' THEN 'Disagree'\\n\\n\\t WHEN `DRG Definition` LIKE '286%' OR `DRG Definition` LIKE '244%' THEN 'Agree'\\n\\n\\t WHEN `DRG Definition` LIKE '251%' OR `DRG Definition` LIKE '252%' THEN 'Strongly Disagree'\\n     \\n     ELSE 'Strongly Agree'\\n     \\nEND\\n = 'Neutral' THEN 3\\n WHEN CASE WHEN `DRG Definition` LIKE '330%' THEN 'Neutral'\\n\\n\\t WHEN `DRG Definition` LIKE '853%' OR `DRG Definition` LIKE '177%' THEN 'Disagree'\\n\\n\\t WHEN `DRG Definition` LIKE '286%' OR `DRG Definition` LIKE '244%' THEN 'Agree'\\n\\n\\t WHEN `DRG Definition` LIKE '251%' OR `DRG Definition` LIKE '252%' THEN 'Strongly Disagree'\\n     \\n     ELSE 'Strongly Agree'\\n     \\nEND\\n = 'Disagree' THEN 4 ELSE 5 END\", 'status': 'VALID', 'dataType': 'LONG', 'persistedOnDataSource': True, 'isAggregatable': False, 'bignumber': False, 'columnPositions': [{'columnName': '`DRG Definition`', 'columnPosition': 20}, {'columnName': '`DRG Definition`', 'columnPosition': 72}, {'columnName': '`DRG Definition`', 'columnPosition': 104}, {'columnName': '`DRG Definition`', 'columnPosition': 157}, {'columnName': '`DRG Definition`', 'columnPosition': 189}, {'columnName': '`DRG Definition`', 'columnPosition': 239}, {'columnName': '`DRG Definition`', 'columnPosition': 271}, {'columnName': '`DRG Definition`', 'columnPosition': 412}, {'columnName': '`DRG Definition`', 'columnPosition': 464}, {'columnName': '`DRG Definition`', 'columnPosition': 496}, {'columnName': '`DRG Definition`', 'columnPosition': 549}, {'columnName': '`DRG Definition`', 'columnPosition': 581}, {'columnName': '`DRG Definition`', 'columnPosition': 631}, {'columnName': '`DRG Definition`', 'columnPosition': 663}, {'columnName': '`DRG Definition`', 'columnPosition': 795}, {'columnName': '`DRG Definition`', 'columnPosition': 847}, {'columnName': '`DRG Definition`', 'columnPosition': 879}, {'columnName': '`DRG Definition`', 'columnPosition': 932}, {'columnName': '`DRG Definition`', 'columnPosition': 964}, {'columnName': '`DRG Definition`', 'columnPosition': 1014}, {'columnName': '`DRG Definition`', 'columnPosition': 1046}, {'columnName': '`DRG Definition`', 'columnPosition': 1179}, {'columnName': '`DRG Definition`', 'columnPosition': 1231}, {'columnName': '`DRG Definition`', 'columnPosition': 1263}, {'columnName': '`DRG Definition`', 'columnPosition': 1316}, {'columnName': '`DRG Definition`', 'columnPosition': 1348}, {'columnName': '`DRG Definition`', 'columnPosition': 1398}, {'columnName': '`DRG Definition`', 'columnPosition': 1430}], 'variable': False}, 'adf0a11038b44d84c8ec5554c5e91734': {'templateId': 22, 'id': 'adf0a11038b44d84c8ec5554c5e91734', 'name': '% of Total', 'formula': 'COUNT(1)\\n/\\nSUM(COUNT(1)) OVER()', 'status': 'VALID', 'dataType': 'DECIMAL', 'persistedOnDataSource': True, 'isAggregatable': True, 'bignumber': False, 'variable': False}, '01c04b3475105b54d349e3ea1b2ebd9e': {'templateId': 27, 'id': '01c04b3475105b54d349e3ea1b2ebd9e', 'name': 'Response 1', 'formula': \"CASE WHEN `DRG Definition` LIKE '330%' THEN 'Neutral'\\n\\n\\t WHEN `DRG Definition` LIKE '853%' OR `DRG Definition` LIKE '177%' THEN 'Disagree'\\n\\n\\t WHEN `DRG Definition` LIKE '286%' OR `DRG Definition` LIKE '244%' THEN 'Agree'\\n\\n\\t WHEN `DRG Definition` LIKE '251%' OR `DRG Definition` LIKE '252%' THEN 'Strongly Disagree'\\n     \\n     ELSE 'Strongly Agree'\\n     \\nEND\\n\", 'status': 'VALID', 'dataType': 'STRING', 'persistedOnDataSource': True, 'isAggregatable': False, 'bignumber': False, 'columnPositions': [{'columnName': '`DRG Definition`', 'columnPosition': 10}, {'columnName': '`DRG Definition`', 'columnPosition': 62}, {'columnName': '`DRG Definition`', 'columnPosition': 94}, {'columnName': '`DRG Definition`', 'columnPosition': 147}, {'columnName': '`DRG Definition`', 'columnPosition': 179}, {'columnName': '`DRG Definition`', 'columnPosition': 229}, {'columnName': '`DRG Definition`', 'columnPosition': 261}], 'variable': False}, 'f5fa940791bed1b2412841da8ace8740': {'templateId': 32, 'id': 'f5fa940791bed1b2412841da8ace8740', 'name': 'Cost per Patient Day', 'formula': 'AVG(`branch_profit`* CAST(`Cost` AS DEC(10,2)))/2200-800', 'status': 'VALID', 'dataType': 'DOUBLE', 'persistedOnDataSource': True, 'isAggregatable': True, 'bignumber': False, 'columnPositions': [{'columnName': '`branch_profit`', 'columnPosition': 4}, {'columnName': '`Cost`', 'columnPosition': 26}], 'variable': False}, 'bfc55a776ef47ae7d284a84842596bff': {'templateId': 7, 'id': 'bfc55a776ef47ae7d284a84842596bff', 'name': 'date filter2', 'formula': 'CASE WHEN `Application Received` is not null and `Requested Close` is not null then 1 else 0 end', 'status': 'VALID', 'dataType': 'LONG', 'persistedOnDataSource': True, 'isAggregatable': False, 'bignumber': False, 'columnPositions': [{'columnName': '`Application Received`', 'columnPosition': 10}, {'columnName': '`Requested Close`', 'columnPosition': 49}], 'variable': False}, 'a37c04da8851c8d86f69738bad56a2a5': {'templateId': 14, 'id': 'a37c04da8851c8d86f69738bad56a2a5', 'name': 'Readmission Rates2', 'formula': \"(SUM(CASE WHEN `DRG Definition` LIKE '244%' THEN 1 ELSE 0 END)\\n/\\nCOUNT(`DRG Definition`)) /.87\", 'status': 'VALID', 'dataType': 'DOUBLE', 'persistedOnDataSource': True, 'isAggregatable': True, 'bignumber': False, 'columnPositions': [{'columnName': '`DRG Definition`', 'columnPosition': 15}, {'columnName': '`DRG Definition`', 'columnPosition': 71}], 'variable': False}, '26aa9ed0d77f19fc7213e2a8279f869c': {'templateId': 24, 'id': '26aa9ed0d77f19fc7213e2a8279f869c', 'name': 'Usage Rate', 'formula': \"SUM(CASE WHEN `DRG Definition` LIKE '853%' THEN 1 ELSE 0 END)\\n/\\nCOUNT(`DRG Definition`) * 2\", 'status': 'VALID', 'dataType': 'DECIMAL', 'persistedOnDataSource': True, 'isAggregatable': True, 'bignumber': False, 'columnPositions': [{'columnName': '`DRG Definition`', 'columnPosition': 14}, {'columnName': '`DRG Definition`', 'columnPosition': 70}], 'variable': False}, '1ed025019e91dbc02aaf773dcea460b8': {'templateId': 18, 'id': '1ed025019e91dbc02aaf773dcea460b8', 'name': 'Net Income', 'formula': 'SUM(`loan_amount`) / 90000\\n*\\n(Avg(`Total Beds`)*COUNT(DISTINCT `Provider Name`))', 'status': 'VALID', 'dataType': 'DOUBLE', 'persistedOnDataSource': True, 'isAggregatable': True, 'bignumber': False, 'columnPositions': [{'columnName': '`loan_amount`', 'columnPosition': 4}, {'columnName': '`Total Beds`', 'columnPosition': 34}, {'columnName': '`Provider Name`', 'columnPosition': 63}], 'variable': False}, '3c56efd1be726f0dd5aa268d8a65edb1': {'templateId': 43, 'id': '3c56efd1be726f0dd5aa268d8a65edb1', 'name': 'Variable Metric2', 'formula': \"CASE WHEN DOMO_BEAST_MODE(5) LIKE 'Admissions' THEN \\nFLOOR(((SUM(`Total Beds`) \\n/\\nCOUNT(`Provider Name`))\\n/\\n6)\\n+SUM(`Patients to Staff`))\\nWHEN DOMO_BEAST_MODE(5) = 'Avg Length of Stay (Days)' THEN AVG(`Length of Stay`) \\nWHEN DOMO_BEAST_MODE(5) = 'Bed Occupancy Rate (%)' THEN 100* AVG(`Avg Occupancy`)+(AVG(`interest_rate`)/100)\\nWHEN DOMO_BEAST_MODE(5) = 'Emergency Wait Time (Hours)' THEN AVG(REPLACE(LEFT(TIMEDIFF(CAST(`Encounter End time` AS DATETIME),CAST(`Encounter Start Time` AS DATETIME)),5),':','.')*1)\\nWHEN DOMO_BEAST_MODE(5) = 'Patient-to-Staff Ratio' THEN AVG(`Patients to Staff`)\\nWHEN DOMO_BEAST_MODE(5) = 'Readmission Rate (%)' THEN  32* FLOOR(((SUM(CASE WHEN `Admission Classification` = 'Readmission' THEN `Total Beds` ELSE 0 END) \\n/\\nCOUNT(`Provider Name`))\\n/\\n6)\\n+SUM(CASE WHEN `Admission Classification` = 'Readmission' THEN `Patients to Staff` ELSE 0 END)) \\n\\n/\\n\\nFLOOR(((SUM(`Total Beds`) \\n/\\nCOUNT(`Provider Name`))\\n/\\n6)\\n+SUM(`Patients to Staff`))\\nWHEN DOMO_BEAST_MODE(5) = 'Surgery Room Utilization Rate (%)' THEN FLOOR(((SUM(CASE WHEN `Admission Classification` = 'Readmission' THEN `Total Beds` ELSE 0 END) \\n/\\nCOUNT(`Provider Name`))\\n/\\n6)\\n+SUM(CASE WHEN `Admission Classification` = 'Readmission' THEN `Patients to Staff` ELSE 0 END)) \\n\\n/\\n\\nFLOOR(((SUM(`Total Beds`) \\n/\\nCOUNT(`Provider Name`))\\n/\\n6)\\n+SUM(`Patients to Staff`))\\n/ 2 \\n+ AVG(1*`interest_rate`)\\n\\n\\nEND\", 'status': 'VALID', 'dataType': 'DOUBLE', 'persistedOnDataSource': True, 'isAggregatable': True, 'bignumber': False, 'columnPositions': [{'columnName': '`Total Beds`', 'columnPosition': 65}, {'columnName': '`Provider Name`', 'columnPosition': 88}, {'columnName': '`Patients to Staff`', 'columnPosition': 116}, {'columnName': '`Length of Stay`', 'columnPosition': 201}, {'columnName': '`Avg Occupancy`', 'columnPosition': 285}, {'columnName': '`interest_rate`', 'columnPosition': 307}, {'columnName': '`Encounter End time`', 'columnPosition': 421}, {'columnName': '`Encounter Start Time`', 'columnPosition': 460}, {'columnName': '`Patients to Staff`', 'columnPosition': 572}, {'columnName': '`Admission Classification`', 'columnPosition': 674}, {'columnName': '`Total Beds`', 'columnPosition': 722}, {'columnName': '`Provider Name`', 'columnPosition': 756}, {'columnName': '`Admission Classification`', 'columnPosition': 794}, {'columnName': '`Patients to Staff`', 'columnPosition': 842}, {'columnName': '`Total Beds`', 'columnPosition': 892}, {'columnName': '`Provider Name`', 'columnPosition': 915}, {'columnName': '`Patients to Staff`', 'columnPosition': 943}, {'columnName': '`Admission Classification`', 'columnPosition': 1054}, {'columnName': '`Total Beds`', 'columnPosition': 1102}, {'columnName': '`Provider Name`', 'columnPosition': 1136}, {'columnName': '`Admission Classification`', 'columnPosition': 1174}, {'columnName': '`Patients to Staff`', 'columnPosition': 1222}, {'columnName': '`Total Beds`', 'columnPosition': 1272}, {'columnName': '`Provider Name`', 'columnPosition': 1295}, {'columnName': '`Patients to Staff`', 'columnPosition': 1323}, {'columnName': '`interest_rate`', 'columnPosition': 1358}], 'variable': False}, '9a4ae9804ea29c62e0ee058daef227da': {'templateId': 33, 'id': '9a4ae9804ea29c62e0ee058daef227da', 'name': 'Rate', 'formula': 'AVG(`interest_rate`)', 'status': 'VALID', 'dataType': 'DOUBLE', 'persistedOnDataSource': True, 'isAggregatable': True, 'bignumber': False, 'columnPositions': [{'columnName': '`interest_rate`', 'columnPosition': 4}], 'variable': False}, '74a570a180e059a5829ed5b8e5e702c8': {'templateId': 10, 'id': '74a570a180e059a5829ed5b8e5e702c8', 'name': 'Response 3.1', 'formula': 'CASE WHEN `FeetInches` LIKE \\'5%6\"\\' AND `DRG Definition` LIKE \\'330%\\' THEN \\'Hospital-Acquired Infections\\'\\n\\n\\t WHEN `FeetInches` LIKE \\'5%6\"\\' AND (`DRG Definition` LIKE \\'853%\\' OR `DRG Definition` LIKE \\'177%\\') THEN \\'Medication Errors\\'\\n\\n\\t WHEN `FeetInches` LIKE \\'5%6\"\\' AND (`DRG Definition` LIKE \\'286%\\' OR `DRG Definition` LIKE \\'244%\\') THEN \\'Pressure Ulcers\\'\\n\\n\\t WHEN `FeetInches` LIKE \\'5%6\"\\' AND (`DRG Definition` LIKE \\'251%\\' OR `DRG Definition` LIKE \\'252%\\') THEN \\'Falls\\'\\n     \\n     WHEN `FeetInches` LIKE \\'5%6\"\\' AND (`DRG Definition` LIKE \\'207%\\') THEN \\'Diagnostic/Treatment Errors\\'\\n     \\n     WHEN `FeetInches` LIKE \\'5%6\"\\' THEN \\'Surgical Complications\\'\\n     \\nEND\\n\\n', 'status': 'VALID', 'dataType': 'STRING', 'persistedOnDataSource': True, 'isAggregatable': False, 'bignumber': False, 'columnPositions': [{'columnName': '`FeetInches`', 'columnPosition': 10}, {'columnName': '`DRG Definition`', 'columnPosition': 39}, {'columnName': '`FeetInches`', 'columnPosition': 112}, {'columnName': '`DRG Definition`', 'columnPosition': 142}, {'columnName': '`DRG Definition`', 'columnPosition': 174}, {'columnName': '`FeetInches`', 'columnPosition': 237}, {'columnName': '`DRG Definition`', 'columnPosition': 267}, {'columnName': '`DRG Definition`', 'columnPosition': 299}, {'columnName': '`FeetInches`', 'columnPosition': 360}, {'columnName': '`DRG Definition`', 'columnPosition': 390}, {'columnName': '`DRG Definition`', 'columnPosition': 422}, {'columnName': '`FeetInches`', 'columnPosition': 481}, {'columnName': '`DRG Definition`', 'columnPosition': 511}, {'columnName': '`FeetInches`', 'columnPosition': 592}], 'variable': False}, '42c6e4219ca3ebf807d5f3a55c13fe24': {'templateId': 38, 'id': '42c6e4219ca3ebf807d5f3a55c13fe24', 'name': 'Response 3', 'formula': \"CASE WHEN `DRG Definition` LIKE '330%' THEN 'Hospital-Acquired Infections'\\n\\n\\t WHEN `DRG Definition` LIKE '853%' OR `DRG Definition` LIKE '177%' THEN 'Medication Errors'\\n\\n\\t WHEN `DRG Definition` LIKE '286%' OR `DRG Definition` LIKE '244%' THEN 'Pressure Ulcers'\\n\\n\\t WHEN `DRG Definition` LIKE '251%' OR `DRG Definition` LIKE '252%' THEN 'Falls'\\n     \\n     WHEN `DRG Definition` LIKE '207%' THEN 'Diagnostic/Treatment Errors'\\n     \\n     ELSE 'Surgical Complications'\\n     \\nEND\\n\", 'status': 'VALID', 'dataType': 'STRING', 'persistedOnDataSource': True, 'isAggregatable': False, 'bignumber': False, 'columnPositions': [{'columnName': '`DRG Definition`', 'columnPosition': 10}, {'columnName': '`DRG Definition`', 'columnPosition': 83}, {'columnName': '`DRG Definition`', 'columnPosition': 115}, {'columnName': '`DRG Definition`', 'columnPosition': 177}, {'columnName': '`DRG Definition`', 'columnPosition': 209}, {'columnName': '`DRG Definition`', 'columnPosition': 269}, {'columnName': '`DRG Definition`', 'columnPosition': 301}, {'columnName': '`DRG Definition`', 'columnPosition': 359}], 'variable': False}, '45f2ed4b3883e17bf337d3c8c3eaf205': {'templateId': 20, 'id': '45f2ed4b3883e17bf337d3c8c3eaf205', 'name': 'Uncompensated Care Costs', 'formula': '(SUM(`loan_amount`) * 1500\\n*\\n(Avg(`Total Beds`)*COUNT(DISTINCT `Provider Name`)*COUNT(DISTINCT `Department`)/SUM(`Cost`))) * 0.041', 'status': 'VALID', 'dataType': 'DOUBLE', 'persistedOnDataSource': True, 'isAggregatable': True, 'bignumber': False, 'columnPositions': [{'columnName': '`loan_amount`', 'columnPosition': 5}, {'columnName': '`Total Beds`', 'columnPosition': 34}, {'columnName': '`Provider Name`', 'columnPosition': 63}, {'columnName': '`Department`', 'columnPosition': 95}, {'columnName': '`Cost`', 'columnPosition': 113}], 'variable': False}, 'dbad2fcf8038ec41f1b398d7fd0f9635': {'templateId': 16, 'id': 'dbad2fcf8038ec41f1b398d7fd0f9635', 'name': 'Cost Category', 'formula': \"CASE WHEN `DRG Definition` LIKE '330%' THEN 'Supplies and Equipment'\\n\\n\\t WHEN `DRG Definition` LIKE '853%' OR `DRG Definition` LIKE '177%' THEN 'Facilities and Overhead'\\n\\n\\t WHEN `DRG Definition` LIKE '286%' OR `DRG Definition` LIKE '244%' THEN 'Administrative and General Expenses'\\n\\n\\t WHEN `DRG Definition` LIKE '251%' OR `DRG Definition` LIKE '252%' THEN 'Depreciation and Amortization'\\n     \\n     ELSE 'Labor'\\n     \\nEND\", 'status': 'VALID', 'dataType': 'STRING', 'persistedOnDataSource': True, 'isAggregatable': False, 'bignumber': False, 'columnPositions': [{'columnName': '`DRG Definition`', 'columnPosition': 10}, {'columnName': '`DRG Definition`', 'columnPosition': 77}, {'columnName': '`DRG Definition`', 'columnPosition': 109}, {'columnName': '`DRG Definition`', 'columnPosition': 177}, {'columnName': '`DRG Definition`', 'columnPosition': 209}, {'columnName': '`DRG Definition`', 'columnPosition': 289}, {'columnName': '`DRG Definition`', 'columnPosition': 321}], 'variable': False}, 'c004d9af0ff2ef693c35ac0109c2003b': {'templateId': 8, 'id': 'c004d9af0ff2ef693c35ac0109c2003b', 'name': 'Call Time', 'formula': \"AVG(REPLACE(LEFT(TIMEDIFF(CAST(`Encounter End time` AS DATETIME),CAST(`Encounter Start Time` AS DATETIME)),5),':','.')*1)*1.38\", 'status': 'VALID', 'dataType': 'DOUBLE', 'persistedOnDataSource': True, 'isAggregatable': True, 'bignumber': False, 'columnPositions': [{'columnName': '`Encounter End time`', 'columnPosition': 31}, {'columnName': '`Encounter Start Time`', 'columnPosition': 70}], 'variable': False}, '339e056dc84d68b2723d27fd0979eedc': {'templateId': 37, 'id': '339e056dc84d68b2723d27fd0979eedc', 'name': 'Rates of Adverse Events', 'formula': '((AVG(`Avg Occupancy`)+(AVG(`interest_rate`)/100)\\n)*30.2)/10\\n*\\nCOUNT(DISTINCT CASE WHEN `FeetInches` LIKE \\'5%6\"\\' AND `DRG Definition` LIKE \\'330%\\' THEN \\'Hospital-Acquired Infections\\'\\n\\n\\t WHEN `FeetInches` LIKE \\'5%6\"\\' AND (`DRG Definition` LIKE \\'853%\\' OR `DRG Definition` LIKE \\'177%\\') THEN \\'Medication Errors\\'\\n\\n\\t WHEN `FeetInches` LIKE \\'5%6\"\\' AND (`DRG Definition` LIKE \\'286%\\' OR `DRG Definition` LIKE \\'244%\\') THEN \\'Pressure Ulcers\\'\\n\\n\\t WHEN `FeetInches` LIKE \\'5%6\"\\' AND (`DRG Definition` LIKE \\'251%\\' OR `DRG Definition` LIKE \\'252%\\') THEN \\'Falls\\'\\n     \\n     WHEN `FeetInches` LIKE \\'5%6\"\\' AND (`DRG Definition` LIKE \\'207%\\') THEN \\'Diagnostic/Treatment Errors\\'\\n     \\n     WHEN `FeetInches` LIKE \\'5%6\"\\' THEN \\'Surgical Complications\\'\\n     \\nEND)/4/30', 'status': 'VALID', 'dataType': 'DOUBLE', 'persistedOnDataSource': True, 'isAggregatable': True, 'bignumber': False, 'columnPositions': [{'columnName': '`Avg Occupancy`', 'columnPosition': 6}, {'columnName': '`interest_rate`', 'columnPosition': 28}, {'columnName': '`FeetInches`', 'columnPosition': 88}, {'columnName': '`DRG Definition`', 'columnPosition': 117}, {'columnName': '`FeetInches`', 'columnPosition': 190}, {'columnName': '`DRG Definition`', 'columnPosition': 220}, {'columnName': '`DRG Definition`', 'columnPosition': 252}, {'columnName': '`FeetInches`', 'columnPosition': 315}, {'columnName': '`DRG Definition`', 'columnPosition': 345}, {'columnName': '`DRG Definition`', 'columnPosition': 377}, {'columnName': '`FeetInches`', 'columnPosition': 438}, {'columnName': '`DRG Definition`', 'columnPosition': 468}, {'columnName': '`DRG Definition`', 'columnPosition': 500}, {'columnName': '`FeetInches`', 'columnPosition': 559}, {'columnName': '`DRG Definition`', 'columnPosition': 589}, {'columnName': '`FeetInches`', 'columnPosition': 670}], 'variable': False}, '598975d7352955771cef8fee75a0fca5': {'templateId': 11, 'id': '598975d7352955771cef8fee75a0fca5', 'name': 'Hospital Date', 'formula': 'DATE_SUB(`Requested Close`, INTERVAL 2 YEAR)', 'status': 'VALID', 'dataType': 'DATE', 'persistedOnDataSource': True, 'isAggregatable': False, 'bignumber': False, 'columnPositions': [{'columnName': '`Requested Close`', 'columnPosition': 9}], 'variable': False}, '9c4822c17b46372db37cf482ab6258dd': {'templateId': 36, 'id': '9c4822c17b46372db37cf482ab6258dd', 'name': 'Admissions', 'formula': 'FLOOR(((SUM(`Total Beds`) \\n/\\nCOUNT(`Provider Name`))\\n/\\n6)\\n+SUM(`Patients to Staff`))', 'status': 'VALID', 'dataType': 'LONG', 'persistedOnDataSource': True, 'isAggregatable': True, 'bignumber': False, 'columnPositions': [{'columnName': '`Total Beds`', 'columnPosition': 12}, {'columnName': '`Provider Name`', 'columnPosition': 35}, {'columnName': '`Patients to Staff`', 'columnPosition': 63}], 'variable': False}, '504645e89bdf2676a93d589330a6c197': {'templateId': 21, 'id': '504645e89bdf2676a93d589330a6c197', 'name': 'Readmission Rate', 'formula': \"  FLOOR(((SUM(CASE WHEN `Admission Classification` = 'Readmission' THEN `Total Beds` ELSE 0 END) \\n/\\nCOUNT(`Provider Name`))\\n/\\n6)\\n+SUM(CASE WHEN `Admission Classification` = 'Readmission' THEN `Patients to Staff` ELSE 0 END)) \\n\\n/\\n\\nFLOOR(((SUM(`Total Beds`) \\n/\\nCOUNT(`Provider Name`))\\n/\\n6)\\n+SUM(`Patients to Staff`))\", 'status': 'VALID', 'dataType': 'DECIMAL', 'persistedOnDataSource': True, 'isAggregatable': True, 'bignumber': False, 'columnPositions': [{'columnName': '`Admission Classification`', 'columnPosition': 24}, {'columnName': '`Total Beds`', 'columnPosition': 72}, {'columnName': '`Provider Name`', 'columnPosition': 106}, {'columnName': '`Admission Classification`', 'columnPosition': 144}, {'columnName': '`Patients to Staff`', 'columnPosition': 192}, {'columnName': '`Total Beds`', 'columnPosition': 242}, {'columnName': '`Provider Name`', 'columnPosition': 265}, {'columnName': '`Patients to Staff`', 'columnPosition': 293}], 'variable': False}, '0f16bf0b209413bcc0c9a9f0d6d8bc81': {'templateId': 42, 'id': '0f16bf0b209413bcc0c9a9f0d6d8bc81', 'name': 'PL Metric', 'formula': \"CASE WHEN DOMO_BEAST_MODE(4) = 'Meal Testing Evaluation' THEN SUM(`Cost`)\\nWHEN DOMO_BEAST_MODE(4) = 'Restroom Cleanliness' THEN SUM(`Total Beds`)\\nWHEN DOMO_BEAST_MODE(4) = 'Entrance Cleanliness' THEN SUM(`days_extended`)\\nWHEN DOMO_BEAST_MODE(4) = 'Skilled Nursing' THEN SUM(`concessions`)\\nWHEN DOMO_BEAST_MODE(4) = 'Fluorescent Testing' THEN SUM(`tract_population`)\\nEND\", 'status': 'VALID', 'dataType': 'STRING', 'persistedOnDataSource': True, 'isAggregatable': True, 'bignumber': False, 'columnPositions': [{'columnName': '`Cost`', 'columnPosition': 66}, {'columnName': '`Total Beds`', 'columnPosition': 132}, {'columnName': '`days_extended`', 'columnPosition': 204}, {'columnName': '`concessions`', 'columnPosition': 274}, {'columnName': '`tract_population`', 'columnPosition': 346}], 'variable': False}, '4b364bf9750d0f91c6621a4917ba5bb9': {'templateId': 25, 'id': '4b364bf9750d0f91c6621a4917ba5bb9', 'name': 'Age Bracket', 'formula': \"CASE WHEN FLOOR(DATEDIFF(CURRENT_DATE(),`Birthday`)/360-10) < 21 THEN '20 and Under'\\n     WHEN FLOOR(DATEDIFF(CURRENT_DATE(),`Birthday`)/360-10) >= 21 AND FLOOR(DATEDIFF(CURRENT_DATE(),`Birthday`)/360) <= 35 THEN '21 to 35'\\n     WHEN FLOOR(DATEDIFF(CURRENT_DATE(),`Birthday`)/360-10) >= 36 AND FLOOR(DATEDIFF(CURRENT_DATE(),`Birthday`)/360) <= 65 THEN '36 to 50'\\n     WHEN FLOOR(DATEDIFF(CURRENT_DATE(),`Birthday`)/360-10) >= 51 AND FLOOR(DATEDIFF(CURRENT_DATE(),`Birthday`)/360) <= 75 THEN '51 to 65'\\n     ELSE 'Over 65'\\n     END\", 'status': 'VALID', 'dataType': 'STRING', 'persistedOnDataSource': True, 'isAggregatable': False, 'bignumber': False, 'columnPositions': [{'columnName': '`Birthday`', 'columnPosition': 40}, {'columnName': '`Birthday`', 'columnPosition': 125}, {'columnName': '`Birthday`', 'columnPosition': 185}, {'columnName': '`Birthday`', 'columnPosition': 264}, {'columnName': '`Birthday`', 'columnPosition': 324}, {'columnName': '`Birthday`', 'columnPosition': 403}, {'columnName': '`Birthday`', 'columnPosition': 463}], 'variable': False}, '972d3f83e88703e9a7c5c3440f197819': {'templateId': 31, 'id': '972d3f83e88703e9a7c5c3440f197819', 'name': 'Stay', 'formula': 'AVG(`Length of Stay`)/2', 'status': 'VALID', 'dataType': 'DOUBLE', 'persistedOnDataSource': True, 'isAggregatable': True, 'bignumber': False, 'columnPositions': [{'columnName': '`Length of Stay`', 'columnPosition': 4}], 'variable': False}, '188b7dbcebfd012d0300187811c1e28f': {'templateId': 15, 'id': '188b7dbcebfd012d0300187811c1e28f', 'name': 'Age', 'formula': 'FLOOR(DATEDIFF(CURRENT_DATE(),`Birthday`)/360)', 'status': 'VALID', 'dataType': 'LONG', 'persistedOnDataSource': True, 'isAggregatable': False, 'bignumber': False, 'columnPositions': [{'columnName': '`Birthday`', 'columnPosition': 30}], 'variable': False}, '916aacc3974d404936a03b083a8b2f72': {'templateId': 39, 'id': '916aacc3974d404936a03b083a8b2f72', 'name': 'No-Show Rate', 'formula': '(AVG(`loan_amount`)+(AVG(`interest_rate`)/100))\\n/\\n4018120\\n\\n', 'status': 'VALID', 'dataType': 'DOUBLE', 'persistedOnDataSource': True, 'isAggregatable': True, 'bignumber': False, 'columnPositions': [{'columnName': '`loan_amount`', 'columnPosition': 5}, {'columnName': '`interest_rate`', 'columnPosition': 25}], 'variable': False}}}}, 'state': 'IDLE', 'validConfiguration': True, 'validAccount': True, 'streamId': 6, 'transportType': 'PUBLISH', 'adc': False, 'adcExternal': False, 'masked': False, 'currentUserFullAccess': True, 'permissions': 'READ_SHARE', 'hidden': False, 'scheduleActive': True, 'cardCount': 38}, {'id': '63ff64db-7196-4474-93fc-273d8e031cec', 'displayType': 'domo-federateddata', 'dataProviderType': 'domo-federateddata', 'type': 'domo-federateddata', 'name': 'Sample: Clinic Nav', 'description': '', 'owner': {'id': '1598896440', 'name': 'Harini Ganga', 'type': 'USER', 'group': False}, 'status': 'SUCCESS', 'created': 1756872261000, 'lastTouched': 1756872264000, 'lastUpdated': 1756872263449, 'rowCount': 2, 'columnCount': 3, 'cardInfo': {'cardCount': 1, 'cardViewCount': 0}, 'properties': {'formulas': {'formulas': {}}}, 'state': 'IDLE', 'validConfiguration': True, 'validAccount': True, 'streamId': 5, 'transportType': 'PUBLISH', 'adc': False, 'adcExternal': False, 'masked': False, 'currentUserFullAccess': True, 'permissions': 'READ_SHARE', 'hidden': False, 'scheduleActive': True, 'cardCount': 1}, {'id': '48545140-dc60-4717-ae20-4c79100096ed', 'displayType': 'domo-federateddata', 'dataProviderType': 'domo-federateddata', 'type': 'domo-federateddata', 'name': 'Sample: Health Care', 'description': '', 'owner': {'id': '1598896440', 'name': 'Harini Ganga', 'type': 'USER', 'group': False}, 'status': 'SUCCESS', 'created': 1756872258000, 'lastTouched': 1756872261000, 'lastUpdated': 1756872260427, 'rowCount': 1, 'columnCount': 19, 'cardInfo': {'cardCount': 4, 'cardViewCount': 0}, 'properties': {'formulas': {'formulas': {}}}, 'state': 'IDLE', 'validConfiguration': True, 'validAccount': True, 'streamId': 4, 'transportType': 'PUBLISH', 'adc': False, 'adcExternal': False, 'masked': False, 'currentUserFullAccess': True, 'permissions': 'READ_SHARE', 'hidden': False, 'scheduleActive': True, 'cardCount': 4}, {'id': 'ebe59996-b29c-4755-8b42-68c498d936e8', 'displayType': 'domo-federateddata', 'dataProviderType': 'domo-federateddata', 'type': 'domo-federateddata', 'name': 'Sample: Clinic Patients', 'description': '', 'owner': {'id': '1598896440', 'name': 'Harini Ganga', 'type': 'USER', 'group': False}, 'status': 'SUCCESS', 'created': 1756872253000, 'lastTouched': 1756872257000, 'lastUpdated': 1756872256677, 'rowCount': 2, 'columnCount': 17, 'cardInfo': {'cardCount': 9, 'cardViewCount': 0}, 'properties': {'formulas': {'formulas': {'531df854653e659175e7d87792a66f44': {'templateId': 2, 'id': '531df854653e659175e7d87792a66f44', 'name': 'Name1', 'formula': 'CASE WHEN COUNT(`Name`) = 1 THEN `Name` END', 'status': 'VALID', 'dataType': 'STRING', 'persistedOnDataSource': True, 'isAggregatable': True, 'bignumber': False, 'columnPositions': [{'columnName': '`Name`', 'columnPosition': 16}, {'columnName': '`Name`', 'columnPosition': 33}], 'variable': False}}}}, 'state': 'IDLE', 'validConfiguration': True, 'validAccount': True, 'streamId': 2, 'transportType': 'PUBLISH', 'adc': False, 'adcExternal': False, 'masked': False, 'currentUserFullAccess': True, 'permissions': 'READ_SHARE', 'hidden': False, 'scheduleActive': True, 'cardCount': 9}, {'id': 'ca06751b-240d-408f-87d0-c00d30a5bfec', 'displayType': 'DataFlow', 'type': 'DataFlow', 'name': 'Ecommerce', 'owner': {'id': '1598896440', 'name': 'Harini Ganga', 'type': 'USER', 'group': False}, 'status': 'SUCCESS', 'created': 1757057197000, 'rowCount': 0, 'columnCount': 0, 'cardInfo': {'cardCount': 0, 'cardViewCount': 0}, 'properties': {'formulas': {'formulas': {}}}, 'validConfiguration': True, 'validAccount': True, 'adc': False, 'adcExternal': False, 'masked': False, 'currentUserFullAccess': True, 'cloudId': 'domo', 'cloudName': 'Domo', 'permissions': 'NONE', 'hidden': False, 'cloudEngine': 'domo'}, {'id': 'f32b1338-0099-41ed-bf7c-7fc6a22ddf0c', 'displayType': 'DataFlow', 'type': 'DataFlow', 'name': 's/p', 'owner': {'id': '1598896440', 'name': 'Harini Ganga', 'type': 'USER', 'group': False}, 'status': 'SUCCESS', 'created': 1757410030000, 'rowCount': 0, 'columnCount': 0, 'cardInfo': {'cardCount': 0, 'cardViewCount': 0}, 'properties': {'formulas': {'formulas': {}}}, 'validConfiguration': True, 'validAccount': True, 'adc': False, 'adcExternal': False, 'masked': False, 'currentUserFullAccess': True, 'cloudId': 'domo', 'cloudName': 'Domo', 'permissions': 'NONE', 'hidden': False, 'cloudEngine': 'domo'}], '_metaData': {'totalCount': 30, 'limit': 50, 'offset': 0, 'augmented': True, 'executor': 'APIDATA'}}\n"
     ]
    }
   ],
   "source": [
    "import requests\n",
    "\n",
    "\n",
    "instance = os.getenv(\"DOMO_INSTANCE\")\n",
    "developer_token = os.getenv(\"DOMO_DEVELOPER_TOKEN\")\n",
    "# Dataset ID\n",
    "dataset_id = \"cd8b7651-9d72-42c2-bfe2-456113df8d1c\"\n",
    "\n",
    "# API endpoint\n",
    "# url = f\"https://{instance}.domo.com/api/data/v3/datasources/{dataset_id}?part=core,permission\"\n",
    "url = f\"https://{instance}.domo.com/api/data/v3/datasources/\"#ALL DATASETS API\n",
    "\n",
    "# Headers\n",
    "headers = {\n",
    "    \"X-DOMO-Developer-Token\": developer_token,\n",
    "    \"Content-Type\": \"application/json\"\n",
    "}\n",
    "\n",
    "# GET request\n",
    "response = requests.get(url, headers=headers)\n",
    "\n",
    "if response.status_code == 200:\n",
    "    data = response.json()\n",
    "    print(\"✅ Dataset details and permissions retrieved successfully\")\n",
    "    print(data)  # full JSON\n",
    "else:\n",
    "    print(f\"❌ Error {response.status_code}: {response.text}\")\n"
   ]
  },
  {
   "cell_type": "code",
   "execution_count": 170,
   "id": "33da7302",
   "metadata": {},
   "outputs": [
    {
     "name": "stdout",
     "output_type": "stream",
     "text": [
      "200 {'total': 87, 'onDatasets': 45, 'onCards': 42, 'inVisualizations': 51, 'locked': 0, 'invalid': 0, 'invalidLink': 0, 'archived': 0}\n",
      "\n",
      "Card: Unknown Card (ID: 405522535)\n",
      "  No Beast Modes found.\n",
      "\n",
      "Card: Unknown Card (ID: 1370501068)\n",
      "  No Beast Modes found.\n"
     ]
    }
   ],
   "source": [
    "\n",
    "url = f\"https://{instance}.domo.com/api/query/v1/functions/statistics\"\n",
    "headers = {\n",
    "    \"X-DOMO-Developer-Token\": developer_token,\n",
    "    \"Content-Type\": \"application/json\"\n",
    "}\n",
    "\n",
    "res = requests.get(url, headers=headers)\n",
    "print(res.status_code, res.json())\n",
    "\n",
    "cards = [{\"id\": 405522535}, {\"id\": 1370501068}]  # replace with your card IDs\n",
    "\n",
    "for card in cards:\n",
    "    card_id = card['id']\n",
    "    url = f\"https://{instance}.domo.com/api/content/v1/cards/{card_id}/data\"\n",
    "    response = requests.get(url, headers=headers)\n",
    "    \n",
    "    if response.status_code == 200:\n",
    "        card_info = response.json()\n",
    "        card_name = card_info.get(\"name\", \"Unknown Card\")\n",
    "        beast_modes = card_info.get(\"beastModes\", [])\n",
    "        \n",
    "        print(f\"\\nCard: {card_name} (ID: {card_id})\")\n",
    "        if beast_modes:\n",
    "            for bm in beast_modes:\n",
    "                print(f\"  - Beast Mode Name: {bm.get('name')}\")\n",
    "                print(f\"    Formula: {bm.get('formula')}\")\n",
    "                print(f\"    Agg Type: {bm.get('aggregation', 'N/A')}\")\n",
    "        else:\n",
    "            print(\"  No Beast Modes found.\")\n",
    "    else:\n",
    "        print(f\"Error fetching card {card_id}: {response.status_code}, {response.text}\")\n"
   ]
  },
  {
   "cell_type": "code",
   "execution_count": null,
   "id": "79290bb3",
   "metadata": {},
   "outputs": [],
   "source": []
  },
  {
   "cell_type": "code",
   "execution_count": 119,
   "id": "0e021b7f",
   "metadata": {},
   "outputs": [
    {
     "name": "stdout",
     "output_type": "stream",
     "text": [
      "DDCI056358f88866b6c7081a5d2f0829351f790abf7c313d3a86 squareshift-co-34\n",
      "Status: 401\n",
      "[]\n"
     ]
    }
   ],
   "source": [
    "import requests\n",
    "from dotenv import load_dotenv\n",
    "import os\n",
    "\n",
    "load_dotenv()\n",
    "instance = os.getenv(\"DOMO_INSTANCE\")\n",
    "access_token = os.getenv(\"DOMO_DEVELOPER_TOKEN\")  # from the step where you requested with scope: \"data user dashboard alert\"\n",
    "print(access_token,instance)\n",
    "card_id = 587394437\n",
    "\n",
    "url = f\"https://{instance}.domo.com/api/social/v4/alerts\"\n",
    "headers = {\n",
    "    \"Authorization\": f\"bearer {access_token}\",\n",
    "    \"Content-Type\": \"application/json\"\n",
    "}\n",
    "\n",
    "resp = requests.get(url, headers=headers)\n",
    "print(\"Status:\", resp.status_code)\n",
    "alerts = resp.json() if resp.status_code == 200 else []\n",
    "print(alerts)\n"
   ]
  },
  {
   "cell_type": "code",
   "execution_count": 61,
   "id": "46f3dc5c",
   "metadata": {},
   "outputs": [
    {
     "name": "stdout",
     "output_type": "stream",
     "text": [
      "Magic ETL Name: New ETL Transform\n",
      "Magic ETL Type: None\n",
      "Datasets: None\n",
      "Definition: {'gui': {'version': '1.0', 'canvases': {'default': {'canvasSettings': {'coarserGrid': True, 'backgroundVariant': 'None', 'hideCoarserGridPopUp': False}, 'elements': [{'x': 224, 'y': 128, 'id': 'LoadFromVault-5b5c6ebc-6a50-4876-9ef2-c53a9ef45a75', 'type': 'Tile', 'color': 3701798}, {'x': 352, 'y': 128, 'id': 'Filter-8f94ee0d-51d0-4030-b696-6a48b633ceb3', 'type': 'Tile'}, {'x': 480, 'y': 128, 'id': 'PublishToVault-613b8a4e-6a74-45cf-bbba-364f54e441a6', 'type': 'Tile'}]}}, 'useGraphUI': True}, 'id': 1, 'name': 'New ETL Transform', 'dapDataFlowId': 'f5e7e8d4-39f3-4125-bc57-ac2060a288b0', 'responsibleUserId': 1471496075, 'runState': 'ENABLED', 'lastExecution': {'id': 1, 'onboardFlowId': 1, 'previewRows': 0, 'dapDataFlowExecutionId': 'bbd0f488-b7fd-47a5-b685-674c11977589', 'beginTime': 1757310385000, 'endTime': 1757310414000, 'lastUpdated': 1757310414000, 'failed': True, 'state': 'REJECTED', 'errors': [{'code': 'DP-60002', 'message': None, 'actionId': None, 'propertyPath': None, 'lineInfo': None, 'retryable': False, 'localizedMessage': 'Error reading action definitions for DataFlow.', 'parameters': None, 'global': True}], 'dataFlowVersion': 1}, 'created': 1757310353000, 'modified': 1757310353000, 'actions': [{'type': 'LoadFromVault', 'id': 'LoadFromVault-5b5c6ebc-6a50-4876-9ef2-c53a9ef45a75', 'name': 'Sample: Hospital Capacity Management', 'settings': {}, 'gui': {'x': 224, 'y': 128, 'color': 3701798, 'colorSource': None, 'sampleJson': None}, 'previewRowLimit': 10000, 'propagateAi': False, 'dataSourceId': '4e90db85-60f4-4ddc-9644-b526bfece7a2', 'executeFlowWhenUpdated': False, 'pseudoDataSource': False, 'truncateTextColumns': False, 'truncateRows': False, 'onlyLoadNewVersions': False, 'recentVersionCutoffMs': 0, 'tables': [{'id': 'LoadFromVault-5b5c6ebc-6a50-4876-9ef2-c53a9ef45a75', 'name': 'Sample: Hospital Capacity Management'}]}, {'type': 'Filter', 'id': 'Filter-8f94ee0d-51d0-4030-b696-6a48b633ceb3', 'name': 'Filter Rows', 'dependsOn': ['LoadFromVault-5b5c6ebc-6a50-4876-9ef2-c53a9ef45a75'], 'settings': {}, 'gui': {'x': 352, 'y': 128, 'color': None, 'colorSource': None, 'sampleJson': None}, 'input': 'LoadFromVault-5b5c6ebc-6a50-4876-9ef2-c53a9ef45a75', 'filterList': [{'leftField': None, 'rightField': None, 'rightValue': None, 'rightExpr': None, 'operator': None, 'expression': \"`Gender`='male'\", 'andFilterList': []}], 'tables': [{'id': 'Filter-8f94ee0d-51d0-4030-b696-6a48b633ceb3', 'name': 'Filter Rows'}]}, {'type': 'PublishToVault', 'id': 'PublishToVault-613b8a4e-6a74-45cf-bbba-364f54e441a6', 'name': 'output', 'dependsOn': ['Filter-8f94ee0d-51d0-4030-b696-6a48b633ceb3'], 'settings': {}, 'gui': {'x': 480, 'y': 128, 'color': None, 'colorSource': None, 'sampleJson': None}, 'inputs': ['Filter-8f94ee0d-51d0-4030-b696-6a48b633ceb3'], 'dataSource': {'guid': '7e6dca86-5e7d-49f1-a7f7-e13928970e2f', 'type': 'DataFlow', 'name': 'output', 'cloudId': 'domo'}, 'versionChainType': 'REPLACE', 'schemaSource': 'DATAFLOW', 'partitioned': False, 'tables': [{'id': 'PublishToVault-613b8a4e-6a74-45cf-bbba-364f54e441a6', 'name': 'output'}]}], 'engineProperties': {'kettle.mode': 'STRICT'}, 'inputs': [{'dataSourceId': '4e90db85-60f4-4ddc-9644-b526bfece7a2', 'executeFlowWhenUpdated': False, 'dataSourceName': 'Sample: Hospital Capacity Management', 'onlyLoadNewVersions': False, 'recentVersionCutoffMs': 0}], 'outputs': [{'onboardFlowId': None, 'dataSourceId': '7e6dca86-5e7d-49f1-a7f7-e13928970e2f', 'dataSourceName': 'output', 'versionChainType': 'REPLACE'}], 'executionCount': 1, 'executionSuccessCount': 0, 'hydrationState': 'DEHYDRATED', 'useLegacyTriggerBehavior': False, 'passwordProtected': False, 'deleted': False, 'abandoned': False, 'neverAbandon': False, 'settings': {'sqlDialect': 'MAGIC'}, 'paused': False, 'enabled': True, 'onboardFlowVersion': {'id': 1, 'timeStamp': 1757310354000, 'authorId': 1471496075, 'description': 'first flow', 'numInputs': 1, 'numOutputs': 1, 'executionCount': 0, 'executionSuccessCount': 0, 'versionNumber': 1}, 'databaseType': 'MAGIC', 'editable': True, 'draft': False, 'triggeredByInput': False, 'numInputs': 1, 'numOutputs': 1, 'magic': True, 'restricted': False, 'subsetProcessing': False, 'container': False}\n"
     ]
    }
   ],
   "source": [
    "import os\n",
    "import requests\n",
    "\n",
    "instance = os.getenv(\"DOMO_INSTANCE\")  # e.g., \"squareshift-co-35\"\n",
    "developer_token = os.getenv(\"DOMO_DEVELOPER_TOKEN\")\n",
    "dataflow_id = \"1\"  # From your URL\n",
    "\n",
    "url = f\"https://{instance}.domo.com/api/dataprocessing/v1/dataflows/{dataflow_id}\"\n",
    "headers = {\n",
    "    \"X-DOMO-Developer-Token\": developer_token,\n",
    "    \"Content-Type\": \"application/json\"\n",
    "}\n",
    "\n",
    "response = requests.get(url, headers=headers)\n",
    "\n",
    "if response.status_code == 200:\n",
    "    magic_etl = response.json()\n",
    "    print(\"Magic ETL Name:\", magic_etl.get(\"name\"))\n",
    "    print(\"Magic ETL Type:\", magic_etl.get(\"type\"))\n",
    "    print(\"Datasets:\", magic_etl.get(\"datasets\"))\n",
    "    print(\"Definition:\", magic_etl)  # This will include steps if available\n",
    "else:\n",
    "    print(\"Failed to fetch Magic ETL:\", response.status_code, response.text)\n"
   ]
  },
  {
   "cell_type": "code",
   "execution_count": null,
   "id": "a9f1ae02",
   "metadata": {},
   "outputs": [],
   "source": []
  },
  {
   "cell_type": "code",
   "execution_count": null,
   "id": "d99b9a98",
   "metadata": {},
   "outputs": [],
   "source": []
  },
  {
   "cell_type": "code",
   "execution_count": null,
   "id": "db7f4dc9",
   "metadata": {},
   "outputs": [],
   "source": []
  },
  {
   "cell_type": "code",
   "execution_count": null,
   "id": "b4ab0142",
   "metadata": {},
   "outputs": [],
   "source": []
  },
  {
   "cell_type": "code",
   "execution_count": null,
   "id": "fe47431f",
   "metadata": {},
   "outputs": [],
   "source": []
  },
  {
   "cell_type": "code",
   "execution_count": null,
   "id": "d5b937a8",
   "metadata": {},
   "outputs": [],
   "source": []
  },
  {
   "cell_type": "code",
   "execution_count": null,
   "id": "313014e5",
   "metadata": {},
   "outputs": [],
   "source": []
  },
  {
   "cell_type": "code",
   "execution_count": null,
   "id": "8de4c19e",
   "metadata": {},
   "outputs": [],
   "source": []
  },
  {
   "cell_type": "code",
   "execution_count": null,
   "id": "999cd82b",
   "metadata": {},
   "outputs": [],
   "source": []
  },
  {
   "cell_type": "code",
   "execution_count": null,
   "id": "81c13c90",
   "metadata": {},
   "outputs": [],
   "source": []
  },
  {
   "cell_type": "code",
   "execution_count": null,
   "id": "86fb8b82",
   "metadata": {},
   "outputs": [],
   "source": []
  },
  {
   "cell_type": "code",
   "execution_count": null,
   "id": "be6d876e",
   "metadata": {},
   "outputs": [],
   "source": []
  },
  {
   "cell_type": "code",
   "execution_count": null,
   "id": "d8c774ae",
   "metadata": {},
   "outputs": [],
   "source": []
  },
  {
   "cell_type": "code",
   "execution_count": null,
   "id": "6488c080",
   "metadata": {},
   "outputs": [],
   "source": []
  },
  {
   "cell_type": "code",
   "execution_count": null,
   "id": "77dd2bca",
   "metadata": {},
   "outputs": [],
   "source": []
  },
  {
   "cell_type": "code",
   "execution_count": null,
   "id": "f4121dce",
   "metadata": {},
   "outputs": [],
   "source": []
  },
  {
   "cell_type": "code",
   "execution_count": null,
   "id": "1d6f3ac7",
   "metadata": {},
   "outputs": [],
   "source": []
  },
  {
   "cell_type": "code",
   "execution_count": 56,
   "id": "b4a6dde1",
   "metadata": {},
   "outputs": [
    {
     "name": "stdout",
     "output_type": "stream",
     "text": [
      "Failed to export card: 405 {\"status\":405,\"statusReason\":\"Method Not Allowed\",\"message\":\"Method Not Allowed\",\"toe\":\"0R3UF3A5D7-HSWVG-MQMJL\"}\n"
     ]
    }
   ],
   "source": [
    "card_id = 2142853841\n",
    "export_url = f\"https://{instance}.domo.com/api/content/v1/cards/{card_id}/export?exportType=PNG\"\n",
    "\n",
    "export_response = requests.get(export_url, headers=headers)\n",
    "\n",
    "if export_response.status_code == 200:\n",
    "    with open(\"card_export.png\", \"wb\") as f:\n",
    "        f.write(export_response.content)\n",
    "    print(\"Card exported as card_export.png\")\n",
    "else:\n",
    "    print(\"Failed to export card:\", export_response.status_code, export_response.text)\n"
   ]
  },
  {
   "cell_type": "code",
   "execution_count": 53,
   "id": "d2524b3c",
   "metadata": {},
   "outputs": [
    {
     "name": "stdout",
     "output_type": "stream",
     "text": [
      "Failed to fetch card details: 405 {\"status\":405,\"statusReason\":\"Method Not Allowed\",\"message\":\"Method Not Allowed\",\"toe\":\"AABFM90Y1H-N5BKH-KQC57\"}\n"
     ]
    }
   ],
   "source": [
    "import os\n",
    "import requests\n",
    "from dotenv import load_dotenv\n",
    "\n",
    "# Load env variables\n",
    "load_dotenv()\n",
    "\n",
    "instance = os.getenv(\"DOMO_INSTANCE\")\n",
    "developer_token = os.getenv(\"DOMO_DEVELOPER_TOKEN\")\n",
    "card_id = 2142853841\n",
    "\n",
    "url = f\"https://{instance}.domo.com/api/content/v1/cards/{card_id}\"\n",
    "headers = {\n",
    "    \"X-DOMO-Developer-Token\": developer_token,\n",
    "    \"Content-Type\": \"application/json\"\n",
    "}\n",
    "\n",
    "response = requests.get(url, headers=headers)\n",
    "\n",
    "if response.status_code == 200:\n",
    "    card = response.json()\n",
    "    print(\"Card Title:\", card.get(\"title\"))\n",
    "    print(\"Card Type:\", card.get(\"type\"))  # e.g., 'chart', 'kpi', 'table', 'file'\n",
    "    print(\"Dataset ID:\", card.get(\"dataSourceId\"))\n",
    "else:\n",
    "    print(\"Failed to fetch card details:\", response.status_code, response.text)\n"
   ]
  },
  {
   "cell_type": "code",
   "execution_count": null,
   "id": "f01e108d",
   "metadata": {},
   "outputs": [],
   "source": []
  },
  {
   "cell_type": "code",
   "execution_count": null,
   "id": "a51b6c0e",
   "metadata": {},
   "outputs": [],
   "source": []
  },
  {
   "cell_type": "code",
   "execution_count": null,
   "id": "d5bd326f",
   "metadata": {},
   "outputs": [],
   "source": []
  },
  {
   "cell_type": "code",
   "execution_count": null,
   "id": "c25fa810",
   "metadata": {},
   "outputs": [],
   "source": []
  },
  {
   "cell_type": "code",
   "execution_count": null,
   "id": "a48c0714",
   "metadata": {},
   "outputs": [],
   "source": []
  },
  {
   "cell_type": "code",
   "execution_count": null,
   "id": "23e23c5e",
   "metadata": {},
   "outputs": [],
   "source": []
  },
  {
   "cell_type": "code",
   "execution_count": null,
   "id": "e7ffed84",
   "metadata": {},
   "outputs": [],
   "source": []
  },
  {
   "cell_type": "code",
   "execution_count": null,
   "id": "a938c923",
   "metadata": {},
   "outputs": [],
   "source": []
  },
  {
   "cell_type": "code",
   "execution_count": 39,
   "id": "6d1d5ecf",
   "metadata": {},
   "outputs": [
    {
     "name": "stdout",
     "output_type": "stream",
     "text": [
      "[]\n"
     ]
    }
   ],
   "source": [
    "# page = domo.pages.get(page['id'])\n",
    "\n",
    "#         # List pages\n",
    "# page_list = list(domo.pages.list())\n",
    "collection_list = domo.pages.get_collections(\"137519751\")\n",
    "\n",
    "print(collection_list)"
   ]
  },
  {
   "cell_type": "code",
   "execution_count": 35,
   "id": "e666aac6",
   "metadata": {},
   "outputs": [
    {
     "name": "stdout",
     "output_type": "stream",
     "text": [
      "Card not found.\n"
     ]
    }
   ],
   "source": [
    "import requests\n",
    "from requests.auth import HTTPBasicAuth\n",
    "from pydomo import Domo\n",
    "\n",
    "# Step 1: Get OAuth Token using your client credentials\n",
    "client_id = CLIENT_ID\n",
    "client_secret = CLIENT_SECRET\n",
    "\n",
    "auth_url = \"https://api.domo.com/oauth/token\"\n",
    "auth_data = {\"grant_type\": \"client_credentials\", \"scope\": \"data\"}\n",
    "auth_response = requests.post(auth_url, auth=HTTPBasicAuth(client_id, client_secret), data=auth_data)\n",
    "\n",
    "if auth_response.status_code != 200:\n",
    "    raise Exception(f\"Failed to get token: {auth_response.text}\")\n",
    "\n",
    "access_token = auth_response.json()[\"access_token\"]\n",
    "\n",
    "# Step 2: Initialize Domo client (for pages API)\n",
    "domo = Domo(client_id=client_id, client_secret=client_secret, api_host=\"api.domo.com\")\n",
    "\n",
    "# Step 3: Get the page details to extract card IDs\n",
    "page_id = 137519751  # Replace with your dashboard ID\n",
    "page_details = domo.pages.get(page_id)\n",
    "card_ids = page_details.get(\"cardIds\", [])\n",
    "\n",
    "# Step 4: Find the card by title\n",
    "target_title = \"options report_2025_08_25t17_28_00.xlsx\"\n",
    "headers = {\"Authorization\": f\"Bearer {access_token}\"}\n",
    "\n",
    "found_card = None\n",
    "for cid in card_ids:\n",
    "    card_resp = requests.get(f\"https://api.domo.com/v1/cards/{cid}\", headers=headers)\n",
    "    if card_resp.status_code == 200:\n",
    "        card = card_resp.json()\n",
    "        print(\"yes\",card)\n",
    "        if card.get(\"title\") == target_title:\n",
    "            found_card = card\n",
    "            break\n",
    "\n",
    "if found_card:\n",
    "    print(\"Card found:\")\n",
    "    print(found_card)\n",
    "else:\n",
    "    print(\"Card not found.\")\n"
   ]
  },
  {
   "cell_type": "code",
   "execution_count": null,
   "id": "056577ba",
   "metadata": {},
   "outputs": [],
   "source": []
  },
  {
   "cell_type": "code",
   "execution_count": null,
   "id": "ab16e721",
   "metadata": {},
   "outputs": [],
   "source": []
  },
  {
   "cell_type": "code",
   "execution_count": 7,
   "id": "dd1aacec",
   "metadata": {},
   "outputs": [
    {
     "name": "stdout",
     "output_type": "stream",
     "text": [
      "Connected to Domo!\n"
     ]
    }
   ],
   "source": [
    "from pydomo import Domo\n",
    "from dotenv import load_dotenv\n",
    "import os\n",
    "\n",
    "# Load environment variables\n",
    "load_dotenv()\n",
    "\n",
    "# Get credentials\n",
    "CLIENT_ID = os.getenv(\"DOMO_CLIENT_ID\")\n",
    "CLIENT_SECRET = os.getenv(\"DOMO_CLIENT_SECRET\")\n",
    "API_HOST = os.getenv(\"DOMO_API_HOST\", \"api.domo.com\")\n",
    "\n",
    "# Authenticate\n",
    "domo = Domo(CLIENT_ID, CLIENT_SECRET, api_host=API_HOST)\n",
    "print(\"Connected to Domo!\")"
   ]
  },
  {
   "cell_type": "code",
   "execution_count": 10,
   "id": "a0e7574e",
   "metadata": {},
   "outputs": [
    {
     "name": "stdout",
     "output_type": "stream",
     "text": [
      "dict_keys(['id', 'name', 'children'])\n",
      "dict_keys(['id', 'name', 'children'])\n"
     ]
    }
   ],
   "source": [
    "pages = domo.pages.list()\n",
    "for p in pages:\n",
    "    print(p.keys())"
   ]
  },
  {
   "cell_type": "code",
   "execution_count": 11,
   "id": "18ad5485",
   "metadata": {},
   "outputs": [
    {
     "name": "stdout",
     "output_type": "stream",
     "text": [
      "Available columns: Index(['id', 'name', 'children'], dtype='object')\n",
      "           id                         name\n",
      "0   137519751      Example Sales Dashboard\n",
      "1  1851060382  Example Marketing Dashboard\n"
     ]
    }
   ],
   "source": [
    "pages = domo.pages.list()\n",
    "\n",
    "# Convert to DataFrame safely\n",
    "import pandas as pd\n",
    "pages_df = pd.DataFrame(pages)\n",
    "\n",
    "# Show available columns\n",
    "print(\"Available columns:\", pages_df.columns)\n",
    "\n",
    "# Try using 'title' or 'name' depending on availability\n",
    "if 'title' in pages_df.columns:\n",
    "    display_columns = ['id', 'title']\n",
    "elif 'name' in pages_df.columns:\n",
    "    display_columns = ['id', 'name']\n",
    "else:\n",
    "    display_columns = ['id']  # fallback\n",
    "\n",
    "print(pages_df[display_columns])\n"
   ]
  },
  {
   "cell_type": "code",
   "execution_count": 40,
   "id": "56eec737",
   "metadata": {},
   "outputs": [
    {
     "name": "stdout",
     "output_type": "stream",
     "text": [
      "Available columns: Index(['id', 'name', 'children'], dtype='object')\n",
      "Dashboard found! ID: 137519751\n"
     ]
    }
   ],
   "source": [
    "import pandas as pd\n",
    "\n",
    "# List all dashboards (pages)\n",
    "pages = domo.pages.list()\n",
    "pages_df = pd.DataFrame(pages)\n",
    "\n",
    "print(\"Available columns:\", pages_df.columns)  # Inspect keys\n",
    "\n",
    "# Adjust based on what key exists (title or name)\n",
    "name_key = 'title' if 'title' in pages_df.columns else 'name'\n",
    "dashboard_name = \"Example Sales Dashboard\"\n",
    "\n",
    "dashboard_row = pages_df[pages_df[name_key] == dashboard_name]\n",
    "\n",
    "if not dashboard_row.empty:\n",
    "    dashboard_id = dashboard_row['id'].iloc[0]\n",
    "    print(\"Dashboard found! ID:\", dashboard_id)\n",
    "else:\n",
    "    raise ValueError(\"Dashboard not found!\")\n"
   ]
  },
  {
   "cell_type": "code",
   "execution_count": 41,
   "id": "ed0ed37a",
   "metadata": {},
   "outputs": [
    {
     "name": "stdout",
     "output_type": "stream",
     "text": [
      "Dashboard found! ID: 137519751\n",
      "\n",
      "No subpages found for this dashboard.\n"
     ]
    }
   ],
   "source": [
    "import pandas as pd\n",
    "\n",
    "# List all dashboards (pages)\n",
    "pages = domo.pages.list()\n",
    "pages_df = pd.DataFrame(pages)\n",
    "\n",
    "# Find your dashboard\n",
    "dashboard_name = \"Example Sales Dashboard\"\n",
    "dashboard_row = pages_df[pages_df['name'] == dashboard_name]\n",
    "\n",
    "if not dashboard_row.empty:\n",
    "    dashboard_id = dashboard_row['id'].iloc[0]\n",
    "    print(f\"Dashboard found! ID: {dashboard_id}\")\n",
    "\n",
    "    # Extract subpages from 'children'\n",
    "    children = dashboard_row['children'].iloc[0]\n",
    "\n",
    "    if children:\n",
    "        subpages_df = pd.DataFrame(children)\n",
    "        print(\"\\nSubpages Details:\")\n",
    "        print(subpages_df[['id', 'name']])  # Add more columns if available\n",
    "    else:\n",
    "        print(\"\\nNo subpages found for this dashboard.\")\n",
    "else:\n",
    "    raise ValueError(\"Dashboard not found!\")\n"
   ]
  },
  {
   "cell_type": "code",
   "execution_count": 15,
   "id": "91c1db15",
   "metadata": {},
   "outputs": [
    {
     "data": {
      "text/plain": [
       "np.int64(137519751)"
      ]
     },
     "execution_count": 15,
     "metadata": {},
     "output_type": "execute_result"
    }
   ],
   "source": [
    "dashboard_id\n"
   ]
  },
  {
   "cell_type": "code",
   "execution_count": 14,
   "id": "83719511",
   "metadata": {},
   "outputs": [
    {
     "name": "stdout",
     "output_type": "stream",
     "text": [
      "Empty DataFrame\n",
      "Columns: []\n",
      "Index: []\n"
     ]
    }
   ],
   "source": [
    "# Fetch collections (cards are grouped under collections)\n",
    "collections = domo.pages.get_collections(dashboard_id)\n",
    "\n",
    "cards = []\n",
    "for col in collections:\n",
    "    for card in col.get(\"cards\", []):\n",
    "        cards.append({\n",
    "            \"collection_id\": col.get(\"id\"),\n",
    "            \"collection_title\": col.get(\"title\") or col.get(\"name\"),\n",
    "            \"card_id\": card.get(\"id\") or card.get(\"cardId\"),\n",
    "            \"card_title\": card.get(\"title\") or card.get(\"name\"),\n",
    "            \"card_type\": card.get(\"type\")\n",
    "        })\n",
    "\n",
    "cards_df = pd.DataFrame(cards)\n",
    "print(cards_df)\n"
   ]
  },
  {
   "cell_type": "code",
   "execution_count": 19,
   "id": "a91a0c72",
   "metadata": {},
   "outputs": [
    {
     "name": "stdout",
     "output_type": "stream",
     "text": [
      "{'id': 137519751, 'ownerId': 27, 'name': 'Example Sales Dashboard', 'locked': False, 'collectionIds': [], 'cardIds': [1154368080, 1863447823, 1763326510, 674857235, 249832152, 1886551369, 17410891, 2033830768, 917537435, 488937495, 1613900368, 1523978392, 729138372, 114175563, 1370674614, 1713910732, 982331143, 1985430640, 59753986], 'visibility': {'userIds': [27], 'groupIds': [1324037627]}, 'owners': [{'id': 27, 'type': 'USER', 'displayName': 'DomoSupport'}]}\n"
     ]
    }
   ],
   "source": [
    "page_details = domo.pages.get(dashboard_id)\n",
    "print(page_details)\n"
   ]
  },
  {
   "cell_type": "code",
   "execution_count": 20,
   "id": "2a3bdd9e",
   "metadata": {},
   "outputs": [
    {
     "name": "stdout",
     "output_type": "stream",
     "text": [
      "Total cards: 19\n",
      "[1154368080, 1863447823, 1763326510, 674857235, 249832152, 1886551369, 17410891, 2033830768, 917537435, 488937495, 1613900368, 1523978392, 729138372, 114175563, 1370674614, 1713910732, 982331143, 1985430640, 59753986]\n"
     ]
    }
   ],
   "source": [
    "dashboard_id = 137519751\n",
    "page_details = domo.pages.get(dashboard_id)\n",
    "\n",
    "card_ids = page_details.get(\"cardIds\", [])\n",
    "print(\"Total cards:\", len(card_ids))\n",
    "print(card_ids)\n"
   ]
  },
  {
   "cell_type": "code",
   "execution_count": 22,
   "id": "e0883e3a",
   "metadata": {},
   "outputs": [
    {
     "ename": "ModuleNotFoundError",
     "evalue": "No module named 'tqdm'",
     "output_type": "error",
     "traceback": [
      "\u001b[0;31m---------------------------------------------------------------------------\u001b[0m",
      "\u001b[0;31mModuleNotFoundError\u001b[0m                       Traceback (most recent call last)",
      "Cell \u001b[0;32mIn[22], line 1\u001b[0m\n\u001b[0;32m----> 1\u001b[0m \u001b[38;5;28;01mfrom\u001b[39;00m\u001b[38;5;250m \u001b[39m\u001b[38;5;21;01mtqdm\u001b[39;00m\u001b[38;5;250m \u001b[39m\u001b[38;5;28;01mimport\u001b[39;00m tqdm  \u001b[38;5;66;03m# optional: to show progress\u001b[39;00m\n\u001b[1;32m      2\u001b[0m cards \u001b[38;5;241m=\u001b[39m []\n\u001b[1;32m      4\u001b[0m \u001b[38;5;28;01mfor\u001b[39;00m cid \u001b[38;5;129;01min\u001b[39;00m tqdm(card_ids):\n",
      "\u001b[0;31mModuleNotFoundError\u001b[0m: No module named 'tqdm'"
     ]
    }
   ],
   "source": [
    "from tqdm import tqdm  # optional: to show progress\n",
    "cards = []\n",
    "\n",
    "for cid in tqdm(card_ids):\n",
    "    try:\n",
    "        card = domo.cards.get(cid)\n",
    "        cards.append({\n",
    "            \"card_id\": card.get(\"id\"),\n",
    "            \"card_title\": card.get(\"title\") or card.get(\"name\"),\n",
    "            \"card_type\": card.get(\"type\"),\n",
    "            \"data_source_id\": card.get(\"dataSourceId\") or card.get(\"datasetId\")\n",
    "        })\n",
    "    except Exception as e:\n",
    "        print(f\"Failed to fetch card {cid}: {e}\")\n",
    "\n",
    "import pandas as pd\n",
    "cards_df = pd.DataFrame(cards)\n",
    "print(cards_df[['card_id', 'card_title', 'card_type']])\n"
   ]
  },
  {
   "cell_type": "code",
   "execution_count": null,
   "id": "d9a283ac",
   "metadata": {},
   "outputs": [],
   "source": []
  }
 ],
 "metadata": {
  "kernelspec": {
   "display_name": ".venv",
   "language": "python",
   "name": "python3"
  },
  "language_info": {
   "codemirror_mode": {
    "name": "ipython",
    "version": 3
   },
   "file_extension": ".py",
   "mimetype": "text/x-python",
   "name": "python",
   "nbconvert_exporter": "python",
   "pygments_lexer": "ipython3",
   "version": "3.9.6"
  }
 },
 "nbformat": 4,
 "nbformat_minor": 5
}
